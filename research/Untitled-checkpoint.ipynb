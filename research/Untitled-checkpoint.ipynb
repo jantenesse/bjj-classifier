{
 "cells": [
  {
   "cell_type": "code",
   "execution_count": 1,
   "id": "f69d7b0a-888f-4455-8dab-09098f52335c",
   "metadata": {
    "scrolled": true
   },
   "outputs": [
    {
     "name": "stdout",
     "output_type": "stream",
     "text": [
      "Collecting pytorchvideo\n",
      "  Downloading pytorchvideo-0.1.5.tar.gz (132 kB)\n",
      "  Installing build dependencies ... \u001b[?25ldone\n",
      "\u001b[?25h  Getting requirements to build wheel ... \u001b[?25ldone\n",
      "\u001b[?25h  Preparing metadata (pyproject.toml) ... \u001b[?25ldone\n",
      "\u001b[?25hCollecting torch\n",
      "  Downloading torch-2.7.1-cp310-none-macosx_11_0_arm64.whl.metadata (29 kB)\n",
      "Collecting torchvision\n",
      "  Downloading torchvision-0.22.1-cp310-cp310-macosx_11_0_arm64.whl.metadata (6.1 kB)\n",
      "Collecting opencv-python\n",
      "  Downloading opencv_python-4.11.0.86-cp37-abi3-macosx_13_0_arm64.whl.metadata (20 kB)\n",
      "Collecting fvcore (from pytorchvideo)\n",
      "  Downloading fvcore-0.1.5.post20221221.tar.gz (50 kB)\n",
      "  Installing build dependencies ... \u001b[?25ldone\n",
      "\u001b[?25h  Getting requirements to build wheel ... \u001b[?25ldone\n",
      "\u001b[?25h  Preparing metadata (pyproject.toml) ... \u001b[?25ldone\n",
      "\u001b[?25hCollecting av (from pytorchvideo)\n",
      "  Downloading av-14.4.0-cp310-cp310-macosx_12_0_arm64.whl.metadata (4.6 kB)\n",
      "Collecting parameterized (from pytorchvideo)\n",
      "  Downloading parameterized-0.9.0-py2.py3-none-any.whl.metadata (18 kB)\n",
      "Collecting iopath (from pytorchvideo)\n",
      "  Downloading iopath-0.1.10.tar.gz (42 kB)\n",
      "  Installing build dependencies ... \u001b[?25ldone\n",
      "\u001b[?25h  Getting requirements to build wheel ... \u001b[?25ldone\n",
      "\u001b[?25h  Preparing metadata (pyproject.toml) ... \u001b[?25ldone\n",
      "\u001b[?25hCollecting networkx (from pytorchvideo)\n",
      "  Downloading networkx-3.4.2-py3-none-any.whl.metadata (6.3 kB)\n",
      "Collecting filelock (from torch)\n",
      "  Downloading filelock-3.18.0-py3-none-any.whl.metadata (2.9 kB)\n",
      "Requirement already satisfied: typing-extensions>=4.10.0 in /Users/j/.pyenv/versions/3.10.18/lib/python3.10/site-packages (from torch) (4.14.0)\n",
      "Collecting sympy>=1.13.3 (from torch)\n",
      "  Downloading sympy-1.14.0-py3-none-any.whl.metadata (12 kB)\n",
      "Collecting jinja2 (from torch)\n",
      "  Downloading jinja2-3.1.6-py3-none-any.whl.metadata (2.9 kB)\n",
      "Collecting fsspec (from torch)\n",
      "  Downloading fsspec-2025.5.1-py3-none-any.whl.metadata (11 kB)\n",
      "Collecting numpy (from torchvision)\n",
      "  Downloading numpy-2.2.6-cp310-cp310-macosx_14_0_arm64.whl.metadata (62 kB)\n",
      "Collecting pillow!=8.3.*,>=5.3.0 (from torchvision)\n",
      "  Downloading pillow-11.2.1-cp310-cp310-macosx_11_0_arm64.whl.metadata (8.9 kB)\n",
      "Collecting mpmath<1.4,>=1.1.0 (from sympy>=1.13.3->torch)\n",
      "  Downloading mpmath-1.3.0-py3-none-any.whl.metadata (8.6 kB)\n",
      "Collecting yacs>=0.1.6 (from fvcore->pytorchvideo)\n",
      "  Downloading yacs-0.1.8-py3-none-any.whl.metadata (639 bytes)\n",
      "Collecting pyyaml>=5.1 (from fvcore->pytorchvideo)\n",
      "  Downloading PyYAML-6.0.2-cp310-cp310-macosx_11_0_arm64.whl.metadata (2.1 kB)\n",
      "Requirement already satisfied: tqdm in /Users/j/.pyenv/versions/3.10.18/lib/python3.10/site-packages (from fvcore->pytorchvideo) (4.67.1)\n",
      "Collecting termcolor>=1.1 (from fvcore->pytorchvideo)\n",
      "  Downloading termcolor-3.1.0-py3-none-any.whl.metadata (6.4 kB)\n",
      "Collecting tabulate (from fvcore->pytorchvideo)\n",
      "  Downloading tabulate-0.9.0-py3-none-any.whl.metadata (34 kB)\n",
      "Collecting portalocker (from iopath->pytorchvideo)\n",
      "  Downloading portalocker-3.2.0-py3-none-any.whl.metadata (8.7 kB)\n",
      "Collecting MarkupSafe>=2.0 (from jinja2->torch)\n",
      "  Downloading MarkupSafe-3.0.2-cp310-cp310-macosx_11_0_arm64.whl.metadata (4.0 kB)\n",
      "Downloading torch-2.7.1-cp310-none-macosx_11_0_arm64.whl (68.6 MB)\n",
      "\u001b[2K   \u001b[38;2;114;156;31m━━━━━━━━━━━━━━━━━━━━━━━━━━━━━━━━━━━━━━━━\u001b[0m \u001b[32m68.6/68.6 MB\u001b[0m \u001b[31m22.9 MB/s\u001b[0m eta \u001b[36m0:00:00\u001b[0m31m23.1 MB/s\u001b[0m eta \u001b[36m0:00:01\u001b[0m\n",
      "\u001b[?25hDownloading torchvision-0.22.1-cp310-cp310-macosx_11_0_arm64.whl (1.9 MB)\n",
      "\u001b[2K   \u001b[38;2;114;156;31m━━━━━━━━━━━━━━━━━━━━━━━━━━━━━━━━━━━━━━━━\u001b[0m \u001b[32m1.9/1.9 MB\u001b[0m \u001b[31m27.8 MB/s\u001b[0m eta \u001b[36m0:00:00\u001b[0m\n",
      "\u001b[?25hDownloading opencv_python-4.11.0.86-cp37-abi3-macosx_13_0_arm64.whl (37.3 MB)\n",
      "\u001b[2K   \u001b[38;2;114;156;31m━━━━━━━━━━━━━━━━━━━━━━━━━━━━━━━━━━━━━━━━\u001b[0m \u001b[32m37.3/37.3 MB\u001b[0m \u001b[31m31.1 MB/s\u001b[0m eta \u001b[36m0:00:00\u001b[0m MB/s\u001b[0m eta \u001b[36m0:00:01\u001b[0m:01\u001b[0m\n",
      "\u001b[?25hDownloading numpy-2.2.6-cp310-cp310-macosx_14_0_arm64.whl (5.3 MB)\n",
      "\u001b[2K   \u001b[38;2;114;156;31m━━━━━━━━━━━━━━━━━━━━━━━━━━━━━━━━━━━━━━━━\u001b[0m \u001b[32m5.3/5.3 MB\u001b[0m \u001b[31m31.9 MB/s\u001b[0m eta \u001b[36m0:00:00\u001b[0m\n",
      "\u001b[?25hDownloading pillow-11.2.1-cp310-cp310-macosx_11_0_arm64.whl (3.0 MB)\n",
      "\u001b[2K   \u001b[38;2;114;156;31m━━━━━━━━━━━━━━━━━━━━━━━━━━━━━━━━━━━━━━━━\u001b[0m \u001b[32m3.0/3.0 MB\u001b[0m \u001b[31m28.6 MB/s\u001b[0m eta \u001b[36m0:00:00\u001b[0m\n",
      "\u001b[?25hDownloading sympy-1.14.0-py3-none-any.whl (6.3 MB)\n",
      "\u001b[2K   \u001b[38;2;114;156;31m━━━━━━━━━━━━━━━━━━━━━━━━━━━━━━━━━━━━━━━━\u001b[0m \u001b[32m6.3/6.3 MB\u001b[0m \u001b[31m28.0 MB/s\u001b[0m eta \u001b[36m0:00:00\u001b[0mm eta \u001b[36m0:00:01\u001b[0m\n",
      "\u001b[?25hDownloading mpmath-1.3.0-py3-none-any.whl (536 kB)\n",
      "\u001b[2K   \u001b[38;2;114;156;31m━━━━━━━━━━━━━━━━━━━━━━━━━━━━━━━━━━━━━━━━\u001b[0m \u001b[32m536.2/536.2 kB\u001b[0m \u001b[31m14.6 MB/s\u001b[0m eta \u001b[36m0:00:00\u001b[0m\n",
      "\u001b[?25hDownloading av-14.4.0-cp310-cp310-macosx_12_0_arm64.whl (20.0 MB)\n",
      "\u001b[2K   \u001b[38;2;114;156;31m━━━━━━━━━━━━━━━━━━━━━━━━━━━━━━━━━━━━━━━━\u001b[0m \u001b[32m20.0/20.0 MB\u001b[0m \u001b[31m31.7 MB/s\u001b[0m eta \u001b[36m0:00:00\u001b[0mm eta \u001b[36m0:00:01\u001b[0m0:01\u001b[0m\n",
      "\u001b[?25hDownloading filelock-3.18.0-py3-none-any.whl (16 kB)\n",
      "Downloading fsspec-2025.5.1-py3-none-any.whl (199 kB)\n",
      "Downloading PyYAML-6.0.2-cp310-cp310-macosx_11_0_arm64.whl (171 kB)\n",
      "Downloading termcolor-3.1.0-py3-none-any.whl (7.7 kB)\n",
      "Downloading yacs-0.1.8-py3-none-any.whl (14 kB)\n",
      "Downloading jinja2-3.1.6-py3-none-any.whl (134 kB)\n",
      "Downloading MarkupSafe-3.0.2-cp310-cp310-macosx_11_0_arm64.whl (12 kB)\n",
      "Downloading networkx-3.4.2-py3-none-any.whl (1.7 MB)\n",
      "\u001b[2K   \u001b[38;2;114;156;31m━━━━━━━━━━━━━━━━━━━━━━━━━━━━━━━━━━━━━━━━\u001b[0m \u001b[32m1.7/1.7 MB\u001b[0m \u001b[31m29.1 MB/s\u001b[0m eta \u001b[36m0:00:00\u001b[0m\n",
      "\u001b[?25hDownloading parameterized-0.9.0-py2.py3-none-any.whl (20 kB)\n",
      "Downloading portalocker-3.2.0-py3-none-any.whl (22 kB)\n",
      "Downloading tabulate-0.9.0-py3-none-any.whl (35 kB)\n",
      "Building wheels for collected packages: pytorchvideo, fvcore, iopath\n",
      "  Building wheel for pytorchvideo (pyproject.toml) ... \u001b[?25ldone\n",
      "\u001b[?25h  Created wheel for pytorchvideo: filename=pytorchvideo-0.1.5-py3-none-any.whl size=188757 sha256=f5e7de0d1e700e7bc25b8d899d6b1821692f077a3133f8f8d21e4309d83e42d9\n",
      "  Stored in directory: /Users/j/Library/Caches/pip/wheels/ff/4e/81/0f72a543be9ed7eb737c95bfc5da4025e73226b44368074ece\n",
      "  Building wheel for fvcore (pyproject.toml) ... \u001b[?25ldone\n",
      "\u001b[?25h  Created wheel for fvcore: filename=fvcore-0.1.5.post20221221-py3-none-any.whl size=61445 sha256=cd8986010cd8058296725ac911c8868eb839854ecf7ab7786292e730fde920a4\n",
      "  Stored in directory: /Users/j/Library/Caches/pip/wheels/01/c0/af/77c1cf53a1be9e42a52b48e5af2169d40ec2e89f7362489dd0\n",
      "  Building wheel for iopath (pyproject.toml) ... \u001b[?25ldone\n",
      "\u001b[?25h  Created wheel for iopath: filename=iopath-0.1.10-py3-none-any.whl size=31600 sha256=6b8290e1e29f16f769dfd2f0815a246192dc6c2a4802248a460a71dadad31c54\n",
      "  Stored in directory: /Users/j/Library/Caches/pip/wheels/9a/a3/b6/ac0fcd1b4ed5cfeb3db92e6a0e476cfd48ed0df92b91080c1d\n",
      "Successfully built pytorchvideo fvcore iopath\n",
      "Installing collected packages: mpmath, termcolor, tabulate, sympy, pyyaml, portalocker, pillow, parameterized, numpy, networkx, MarkupSafe, fsspec, filelock, av, yacs, opencv-python, jinja2, iopath, torch, fvcore, torchvision, pytorchvideo\n",
      "\u001b[2K   \u001b[38;2;114;156;31m━━━━━━━━━━━━━━━━━━━━━━━━━━━━━━━━━━━━━━━━\u001b[0m \u001b[32m22/22\u001b[0m [pytorchvideo] \u001b[32m20/22\u001b[0m [torchvision]]]\n",
      "\u001b[1A\u001b[2KSuccessfully installed MarkupSafe-3.0.2 av-14.4.0 filelock-3.18.0 fsspec-2025.5.1 fvcore-0.1.5.post20221221 iopath-0.1.10 jinja2-3.1.6 mpmath-1.3.0 networkx-3.4.2 numpy-2.2.6 opencv-python-4.11.0.86 parameterized-0.9.0 pillow-11.2.1 portalocker-3.2.0 pytorchvideo-0.1.5 pyyaml-6.0.2 sympy-1.14.0 tabulate-0.9.0 termcolor-3.1.0 torch-2.7.1 torchvision-0.22.1 yacs-0.1.8\n"
     ]
    }
   ],
   "source": [
    "!pip install pytorchvideo torch torchvision opencv-python"
   ]
  },
  {
   "cell_type": "code",
   "execution_count": 4,
   "id": "53321c34-6fb5-40e1-aee3-d1f36abbb83e",
   "metadata": {},
   "outputs": [
    {
     "name": "stdout",
     "output_type": "stream",
     "text": [
      "Embedding shape: torch.Size([2304])\n",
      "Embedding sample: tensor([0.3879, 0.2860, 0.1396, 0.0334, 0.0007])\n"
     ]
    }
   ],
   "source": [
    "import torch\n",
    "import cv2\n",
    "import numpy as np\n",
    "from torch import nn\n",
    "from pytorchvideo.models.hub import slowfast_r50\n",
    "from torchvision.transforms import Compose\n",
    "import torchvision.transforms._transforms_video as transforms\n",
    "\n",
    "# Load pretrained SlowFast model and strip classifier head\n",
    "def load_slowfast_model():\n",
    "    model = slowfast_r50(pretrained=True)\n",
    "    model.blocks[-1].proj = nn.Identity()  # remove classification head\n",
    "    model.eval()\n",
    "    return model\n",
    "\n",
    "# Video transform: normalize pixel values\n",
    "def get_transform():\n",
    "    return Compose([\n",
    "        transforms.NormalizeVideo(\n",
    "            mean=[0.45, 0.45, 0.45],\n",
    "            std=[0.225, 0.225, 0.225]\n",
    "        )\n",
    "    ])\n",
    "\n",
    "# Load video frames and format for SlowFast\n",
    "def load_video_frames(path, num_frames=32, slowfast_alpha=4):\n",
    "    cap = cv2.VideoCapture(path)\n",
    "    total_frames = int(cap.get(cv2.CAP_PROP_FRAME_COUNT))\n",
    "    sample_rate = max(total_frames // num_frames, 1)\n",
    "\n",
    "    frames = []\n",
    "    for i in range(num_frames):\n",
    "        cap.set(cv2.CAP_PROP_POS_FRAMES, i * sample_rate)\n",
    "        ret, frame = cap.read()\n",
    "        if not ret:\n",
    "            break\n",
    "        frame = cv2.cvtColor(frame, cv2.COLOR_BGR2RGB)\n",
    "        frame = cv2.resize(frame, (224, 224))\n",
    "        frames.append(frame)\n",
    "\n",
    "    cap.release()\n",
    "\n",
    "    if len(frames) < num_frames:\n",
    "        raise ValueError(f\"Only {len(frames)} frames could be read. Expected {num_frames}.\")\n",
    "\n",
    "    video = np.stack(frames)  # (T, H, W, C)\n",
    "    video = torch.from_numpy(video).float() / 255.0  # Normalize to [0, 1]\n",
    "    video = video.permute(3, 0, 1, 2)  # (C, T, H, W)\n",
    "    video = video.unsqueeze(0)  # (B, C, T, H, W)\n",
    "    return video\n",
    "\n",
    "# Prepare video for SlowFast input (two pathways)\n",
    "def pack_pathway(video, alpha=4):\n",
    "    fast_pathway = video\n",
    "    slow_pathway = video[:, :, ::alpha, :, :]\n",
    "    return [slow_pathway, fast_pathway]\n",
    "\n",
    "# Main function: extract embedding from video path\n",
    "def extract_slowfast_embedding(video_path):\n",
    "    model = load_slowfast_model()\n",
    "    transform = get_transform()\n",
    "    video = load_video_frames(video_path)\n",
    "    video = transform(video.squeeze(0)).unsqueeze(0)\n",
    "    inputs = pack_pathway(video)\n",
    "\n",
    "    with torch.no_grad():\n",
    "        embedding = model(inputs)\n",
    "    return embedding.squeeze(0)  # shape: (2304,)\n",
    "\n",
    "# Test path\n",
    "video_path = \"/Users/j/code/bjj_classifier/data/training/pulling_guard/pulling_guard1.mp4\"\n",
    "\n",
    "# Extract and print\n",
    "embedding = extract_slowfast_embedding(video_path)\n",
    "print(\"Embedding shape:\", embedding.shape)  # should be torch.Size([2304])\n",
    "print(\"Embedding sample:\", embedding[:5])    # first 5 values"
   ]
  },
  {
   "cell_type": "code",
   "execution_count": 9,
   "id": "b86d7185-ac00-4d3f-b602-9439c444d1e0",
   "metadata": {},
   "outputs": [
    {
     "data": {
      "text/plain": [
       "'Jacob'"
      ]
     },
     "execution_count": 9,
     "metadata": {},
     "output_type": "execute_result"
    }
   ],
   "source": [
    "name_dict = {\"name\" : \"Jacob\"}\n",
    "name_dict[\"name\"]"
   ]
  },
  {
   "cell_type": "code",
   "execution_count": 27,
   "id": "0ca01752-0900-4adf-a3be-94e7b8a28d6f",
   "metadata": {},
   "outputs": [
    {
     "name": "stdout",
     "output_type": "stream",
     "text": [
      "{'passing_guard06.mp4': tensor([0.6926, 0.2768, 0.3470,  ..., 0.1357, 1.0479, 0.0214]), 'passing_guard05.mp4': tensor([0.2913, 0.0769, 0.1399,  ..., 0.4303, 0.7424, 0.0228])}\n"
     ]
    }
   ],
   "source": [
    "import os\n",
    "data_dict = {}\n",
    "data_dict[\"training\"] = {}\n",
    "data_dict[\"training\"][\"pulling_guard\"] = {}\n",
    "for file_name in os.listdir(\"../data/training/pulling_guard\"):\n",
    "    if file_name != \".DS_Store\":\n",
    "        video_path = f\"/Users/j/code/bjj_classifier/data/training/pulling_guard/{file_name}\"\n",
    "        embedding = extract_slowfast_embedding(video_path)\n",
    "        data_dict[\"training\"][\"pulling_guard\"][file_name] = embedding\n",
    "\n",
    "data_dict[\"training\"][\"passing_guard\"] = {}\n",
    "for file_name in os.listdir(\"../data/training/passing_guard\"):\n",
    "    if file_name != \".DS_Store\":\n",
    "        video_path = f\"/Users/j/code/bjj_classifier/data/training/passing_guard/{file_name}\"\n",
    "        embedding = extract_slowfast_embedding(video_path)\n",
    "        data_dict[\"training\"][\"passing_guard\"][file_name] = embedding\n",
    "    \n",
    "data_dict[\"test\"] = {}\n",
    "data_dict[\"test\"][\"pulling_guard\"] = {}\n",
    "for file_name in os.listdir(\"../data/test/pulling_guard\"):\n",
    "    if file_name != \".DS_Store\":\n",
    "        video_path = f\"/Users/j/code/bjj_classifier/data/test/pulling_guard/{file_name}\"\n",
    "        embedding = extract_slowfast_embedding(video_path)\n",
    "        data_dict[\"test\"][\"pulling_guard\"][file_name] = embedding\n",
    "\n",
    "data_dict[\"test\"][\"passing_guard\"] = {}\n",
    "for file_name in os.listdir(\"../data/test/passing_guard\"):\n",
    "    if file_name != \".DS_Store\":\n",
    "        video_path = f\"/Users/j/code/bjj_classifier/data/test/passing_guard/{file_name}\"\n",
    "        embedding = extract_slowfast_embedding(video_path)\n",
    "        data_dict[\"test\"][\"passing_guard\"][file_name] = embedding        \n",
    "\n",
    "\n",
    "        \n",
    "print(data_dict[\"test\"][\"passing_guard\"])"
   ]
  },
  {
   "cell_type": "code",
   "execution_count": 80,
   "id": "ec3573fd-ff32-4093-9480-b2af1f80fc9d",
   "metadata": {},
   "outputs": [],
   "source": [
    "import os\n",
    "\n",
    "def build_dataset(base_path, categories):\n",
    "    dataset = {}\n",
    "    for category in categories:\n",
    "        dataset[category] = {}\n",
    "        for label in [\"pulling_guard\", \"passing_guard\"]:\n",
    "            label_path = os.path.join(base_path, category, label)\n",
    "            dataset[category][label] = {}\n",
    "            for file_name in os.listdir(label_path):\n",
    "                if not file_name.startswith(\".\"):\n",
    "                    video_path = os.path.abspath(label_path + \"/\" + file_name)\n",
    "                    embedding = extract_slowfast_embedding(video_path)\n",
    "                    dataset[category][label][file_name] = embedding\n",
    "    return dataset\n",
    "\n",
    "data_dict = build_dataset(\"../data\", [\"training\", \"test\"])"
   ]
  },
  {
   "cell_type": "code",
   "execution_count": 81,
   "id": "f8decc5d-8acb-4f61-9e92-31fe64519c94",
   "metadata": {},
   "outputs": [
    {
     "name": "stdout",
     "output_type": "stream",
     "text": [
      "{'training': {'pulling_guard': {'pulling_guard02.mp4': tensor([0.1107, 0.0744, 0.0139,  ..., 0.2746, 0.2973, 0.0362]), 'pulling_guard03.mp4': tensor([0.1043, 0.4781, 0.0077,  ..., 0.0987, 0.4139, 0.1856]), 'pulling_guard01.mp4': tensor([0.3879, 0.2860, 0.1396,  ..., 0.2655, 0.2372, 0.0746]), 'pulling_guard04.mp4': tensor([0.3736, 0.0861, 0.0758,  ..., 0.3169, 0.5630, 0.0889])}, 'passing_guard': {'passing_gaurd03.mp4': tensor([0.1200, 1.0608, 0.0633,  ..., 0.0183, 0.2326, 0.0077]), 'passing_guard01.mp4': tensor([0.3247, 1.5934, 0.3402,  ..., 0.0160, 0.0654, 0.0239]), 'passing_gaurd02.mp4': tensor([0.3031, 1.2158, 0.6485,  ..., 1.2844, 0.2659, 0.0244]), 'passing_gaurd04.mp4': tensor([0.0475, 1.3844, 0.0196,  ..., 0.0000, 0.0993, 0.0014])}}, 'test': {'pulling_guard': {'pulling_guard05.mp4': tensor([0.1640, 0.1205, 0.0652,  ..., 0.0228, 0.4845, 0.0738]), 'pulling_guard06.mp4': tensor([0.0325, 0.1148, 0.0159,  ..., 0.0290, 0.1209, 0.0611])}, 'passing_guard': {'passing_guard06.mp4': tensor([0.6926, 0.2768, 0.3470,  ..., 0.1357, 1.0479, 0.0214]), 'passing_guard05.mp4': tensor([0.2913, 0.0769, 0.1399,  ..., 0.4303, 0.7424, 0.0228])}}}\n"
     ]
    }
   ],
   "source": [
    "print(data_dict)"
   ]
  },
  {
   "cell_type": "code",
   "execution_count": 82,
   "id": "428387a4-cf2d-4108-bc76-f02c345c723f",
   "metadata": {},
   "outputs": [
    {
     "name": "stdout",
     "output_type": "stream",
     "text": [
      "Requirement already satisfied: scikit-learn in /Users/j/.pyenv/versions/3.10.18/lib/python3.10/site-packages (1.7.0)\n",
      "Requirement already satisfied: numpy>=1.22.0 in /Users/j/.pyenv/versions/3.10.18/lib/python3.10/site-packages (from scikit-learn) (2.2.6)\n",
      "Requirement already satisfied: scipy>=1.8.0 in /Users/j/.pyenv/versions/3.10.18/lib/python3.10/site-packages (from scikit-learn) (1.15.3)\n",
      "Requirement already satisfied: joblib>=1.2.0 in /Users/j/.pyenv/versions/3.10.18/lib/python3.10/site-packages (from scikit-learn) (1.5.1)\n",
      "Requirement already satisfied: threadpoolctl>=3.1.0 in /Users/j/.pyenv/versions/3.10.18/lib/python3.10/site-packages (from scikit-learn) (3.6.0)\n"
     ]
    }
   ],
   "source": [
    "!pip install scikit-learn"
   ]
  },
  {
   "cell_type": "code",
   "execution_count": 83,
   "id": "0bc66623-9370-4803-80a7-5943fad3a5f4",
   "metadata": {},
   "outputs": [
    {
     "name": "stdout",
     "output_type": "stream",
     "text": [
      "Similarity: 87.21%\n"
     ]
    }
   ],
   "source": [
    "import torch\n",
    "import torch.nn.functional as F\n",
    "import sys\n",
    "\n",
    "embedding_a = data_dict[\"training\"][\"pulling_guard\"][\"pulling_guard02.mp4\"]\n",
    "embedding_b = data_dict[\"test\"][\"pulling_guard\"][\"pulling_guard05.mp4\"]\n",
    "##embedding_b = data_dict[\"test\"][\"passing_guard\"][\"passing_guard05.mp4\"]\n",
    "\n",
    "# Compute cosine similarity between [1, D] vectors\n",
    "similarity = F.cosine_similarity(embedding_a.unsqueeze(0), embedding_b.unsqueeze(0), dim=1).item()\n",
    "similarity_percentage = (similarity + 1) / 2 * 100\n",
    "\n",
    "print(f\"Similarity: {similarity_percentage:.2f}%\")"
   ]
  },
  {
   "cell_type": "code",
   "execution_count": 214,
   "id": "f279ae6b-dee7-44e5-a6f9-29bc2d1f8b40",
   "metadata": {},
   "outputs": [],
   "source": [
    "def perdiction(file_name):\n",
    "\n",
    "    index1 = 0\n",
    "\n",
    "    \n",
    "    while file_name[0].isalpha():\n",
    "        index1 += 1\n",
    "\n",
    "    print(index1)\n",
    "\n",
    "    \n",
    "    embedding_a = data_dict[\"test\"][file_name[0:len(file_name)-index1]][file_name]\n",
    "    \n",
    "    embedding_list_pulling = [] #make embedding list for all pulling guard videos\n",
    "    embedding_list_passing = [] #make embedding list for all passing guard videos\n",
    "\n",
    "    \n",
    "    for files in os.listdir(\"../data/training/pulling_guard\"): \n",
    "        if files != \".DS_Store\":\n",
    "            embedding_list_pulling.append(data_dict[\"training\"][\"pulling_guard\"][files])\n",
    "\n",
    "    for files in os.listdir(\"../data/training/passing_guard\"): \n",
    "        if files != \".DS_Store\":\n",
    "            embedding_list_passing.append(data_dict[\"training\"][\"passing_guard\"][files])\n",
    "\n",
    "    \n",
    "    sum1 = 0\n",
    "    index2 = 0\n",
    "    for embeddings in embedding_list_pulling:\n",
    "        similarity = F.cosine_similarity(embedding_a.unsqueeze(0), embedding_list_pulling[index2].unsqueeze(0), dim=1).item()\n",
    "        similarity_percentage = (similarity + 1) / 2 * 100\n",
    "        sum1 += similarity_percentage\n",
    "        index2 += 1\n",
    "\n",
    "    average_pulling = sum1/len(embedding_list_pulling)\n",
    "    print(average_pulling)\n",
    "\n",
    "    sum2 = 0\n",
    "    index3 = 0\n",
    "    for embeddings in embedding_list_passing:\n",
    "        similarity = F.cosine_similarity(embedding_a.unsqueeze(0), embedding_list_passing[index3].unsqueeze(0), dim=1).item()\n",
    "        similarity_percentage = (similarity + 1) / 2 * 100\n",
    "        sum2 += similarity_percentage\n",
    "        index3 += 1\n",
    "        \n",
    "    average_passing = sum2/len(embedding_list_passing)\n",
    "    print(average_passing)\n",
    "    \n",
    "    if average_passing < average_pulling:\n",
    "        return \"This is pulling guard\"\n",
    "    elif average_passing > average_pulling:\n",
    "        return \"This is passing guard\"\n",
    "    \n",
    "\n"
   ]
  },
  {
   "cell_type": "code",
   "execution_count": 216,
   "id": "4f4a69f6-abc0-4e10-bdb3-8ae400ebf79b",
   "metadata": {},
   "outputs": [
    {
     "ename": "KeyboardInterrupt",
     "evalue": "",
     "output_type": "error",
     "traceback": [
      "\u001b[0;31m---------------------------------------------------------------------------\u001b[0m",
      "\u001b[0;31mKeyboardInterrupt\u001b[0m                         Traceback (most recent call last)",
      "Cell \u001b[0;32mIn[216], line 1\u001b[0m\n\u001b[0;32m----> 1\u001b[0m \u001b[43mperdiction\u001b[49m\u001b[43m(\u001b[49m\u001b[38;5;124;43m\"\u001b[39;49m\u001b[38;5;124;43mpulling_guard05.mp4\u001b[39;49m\u001b[38;5;124;43m\"\u001b[39;49m\u001b[43m)\u001b[49m\n",
      "Cell \u001b[0;32mIn[214], line 6\u001b[0m, in \u001b[0;36mperdiction\u001b[0;34m(file_name)\u001b[0m\n\u001b[1;32m      1\u001b[0m \u001b[38;5;28;01mdef\u001b[39;00m\u001b[38;5;250m \u001b[39m\u001b[38;5;21mperdiction\u001b[39m(file_name):\n\u001b[1;32m      3\u001b[0m     index1 \u001b[38;5;241m=\u001b[39m \u001b[38;5;241m0\u001b[39m\n\u001b[0;32m----> 6\u001b[0m     \u001b[38;5;28;01mwhile\u001b[39;00m \u001b[43mfile_name\u001b[49m\u001b[43m[\u001b[49m\u001b[38;5;241;43m0\u001b[39;49m\u001b[43m]\u001b[49m\u001b[38;5;241;43m.\u001b[39;49m\u001b[43misalpha\u001b[49m\u001b[43m(\u001b[49m\u001b[43m)\u001b[49m:\n\u001b[1;32m      7\u001b[0m         index1 \u001b[38;5;241m+\u001b[39m\u001b[38;5;241m=\u001b[39m \u001b[38;5;241m1\u001b[39m\n\u001b[1;32m      9\u001b[0m     \u001b[38;5;28mprint\u001b[39m(index1)\n",
      "\u001b[0;31mKeyboardInterrupt\u001b[0m: "
     ]
    }
   ],
   "source": [
    "perdiction(\"pulling_guard05.mp4\")"
   ]
  },
  {
   "cell_type": "code",
   "execution_count": null,
   "id": "46f479d3-8a18-41ed-bd17-69b14910c39e",
   "metadata": {},
   "outputs": [],
   "source": [
    "dir(\"hello\")"
   ]
  },
  {
   "cell_type": "code",
   "execution_count": null,
   "id": "faf00720-9bb0-411d-814a-94df29c6b001",
   "metadata": {},
   "outputs": [],
   "source": []
  }
 ],
 "metadata": {
  "kernelspec": {
   "display_name": "Python (pyenv 3.10.18)",
   "language": "python",
   "name": "pyenv-3.10.18"
  },
  "language_info": {
   "codemirror_mode": {
    "name": "ipython",
    "version": 3
   },
   "file_extension": ".py",
   "mimetype": "text/x-python",
   "name": "python",
   "nbconvert_exporter": "python",
   "pygments_lexer": "ipython3",
   "version": "3.10.18"
  }
 },
 "nbformat": 4,
 "nbformat_minor": 5
}
