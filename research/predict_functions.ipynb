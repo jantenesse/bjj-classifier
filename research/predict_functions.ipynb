{
 "cells": [
  {
   "cell_type": "code",
   "execution_count": 1,
   "id": "f69d7b0a-888f-4455-8dab-09098f52335c",
   "metadata": {
    "scrolled": true
   },
   "outputs": [
    {
     "name": "stdout",
     "output_type": "stream",
     "text": [
      "Requirement already satisfied: pytorchvideo in /Users/j/.pyenv/versions/3.10.18/lib/python3.10/site-packages (0.1.5)\n",
      "Requirement already satisfied: torch in /Users/j/.pyenv/versions/3.10.18/lib/python3.10/site-packages (2.7.1)\n",
      "Requirement already satisfied: torchvision in /Users/j/.pyenv/versions/3.10.18/lib/python3.10/site-packages (0.22.1)\n",
      "Requirement already satisfied: opencv-python in /Users/j/.pyenv/versions/3.10.18/lib/python3.10/site-packages (4.11.0.86)\n",
      "Requirement already satisfied: fvcore in /Users/j/.pyenv/versions/3.10.18/lib/python3.10/site-packages (from pytorchvideo) (0.1.5.post20221221)\n",
      "Requirement already satisfied: av in /Users/j/.pyenv/versions/3.10.18/lib/python3.10/site-packages (from pytorchvideo) (14.4.0)\n",
      "Requirement already satisfied: parameterized in /Users/j/.pyenv/versions/3.10.18/lib/python3.10/site-packages (from pytorchvideo) (0.9.0)\n",
      "Requirement already satisfied: iopath in /Users/j/.pyenv/versions/3.10.18/lib/python3.10/site-packages (from pytorchvideo) (0.1.10)\n",
      "Requirement already satisfied: networkx in /Users/j/.pyenv/versions/3.10.18/lib/python3.10/site-packages (from pytorchvideo) (3.4.2)\n",
      "Requirement already satisfied: filelock in /Users/j/.pyenv/versions/3.10.18/lib/python3.10/site-packages (from torch) (3.18.0)\n",
      "Requirement already satisfied: typing-extensions>=4.10.0 in /Users/j/.pyenv/versions/3.10.18/lib/python3.10/site-packages (from torch) (4.14.0)\n",
      "Requirement already satisfied: sympy>=1.13.3 in /Users/j/.pyenv/versions/3.10.18/lib/python3.10/site-packages (from torch) (1.14.0)\n",
      "Requirement already satisfied: jinja2 in /Users/j/.pyenv/versions/3.10.18/lib/python3.10/site-packages (from torch) (3.1.6)\n",
      "Requirement already satisfied: fsspec in /Users/j/.pyenv/versions/3.10.18/lib/python3.10/site-packages (from torch) (2025.5.1)\n",
      "Requirement already satisfied: numpy in /Users/j/.pyenv/versions/3.10.18/lib/python3.10/site-packages (from torchvision) (2.2.6)\n",
      "Requirement already satisfied: pillow!=8.3.*,>=5.3.0 in /Users/j/.pyenv/versions/3.10.18/lib/python3.10/site-packages (from torchvision) (11.2.1)\n",
      "Requirement already satisfied: mpmath<1.4,>=1.1.0 in /Users/j/.pyenv/versions/3.10.18/lib/python3.10/site-packages (from sympy>=1.13.3->torch) (1.3.0)\n",
      "Requirement already satisfied: yacs>=0.1.6 in /Users/j/.pyenv/versions/3.10.18/lib/python3.10/site-packages (from fvcore->pytorchvideo) (0.1.8)\n",
      "Requirement already satisfied: pyyaml>=5.1 in /Users/j/.pyenv/versions/3.10.18/lib/python3.10/site-packages (from fvcore->pytorchvideo) (6.0.2)\n",
      "Requirement already satisfied: tqdm in /Users/j/.pyenv/versions/3.10.18/lib/python3.10/site-packages (from fvcore->pytorchvideo) (4.67.1)\n",
      "Requirement already satisfied: termcolor>=1.1 in /Users/j/.pyenv/versions/3.10.18/lib/python3.10/site-packages (from fvcore->pytorchvideo) (3.1.0)\n",
      "Requirement already satisfied: tabulate in /Users/j/.pyenv/versions/3.10.18/lib/python3.10/site-packages (from fvcore->pytorchvideo) (0.9.0)\n",
      "Requirement already satisfied: portalocker in /Users/j/.pyenv/versions/3.10.18/lib/python3.10/site-packages (from iopath->pytorchvideo) (3.2.0)\n",
      "Requirement already satisfied: MarkupSafe>=2.0 in /Users/j/.pyenv/versions/3.10.18/lib/python3.10/site-packages (from jinja2->torch) (3.0.2)\n"
     ]
    }
   ],
   "source": [
    "!pip install pytorchvideo torch torchvision opencv-python"
   ]
  },
  {
   "cell_type": "code",
   "execution_count": 2,
   "id": "53321c34-6fb5-40e1-aee3-d1f36abbb83e",
   "metadata": {},
   "outputs": [
    {
     "name": "stderr",
     "output_type": "stream",
     "text": [
      "/Users/j/.pyenv/versions/3.10.18/lib/python3.10/site-packages/torchvision/transforms/_functional_video.py:6: UserWarning: The 'torchvision.transforms._functional_video' module is deprecated since 0.12 and will be removed in the future. Please use the 'torchvision.transforms.functional' module instead.\n",
      "  warnings.warn(\n",
      "/Users/j/.pyenv/versions/3.10.18/lib/python3.10/site-packages/torchvision/transforms/_transforms_video.py:22: UserWarning: The 'torchvision.transforms._transforms_video' module is deprecated since 0.12 and will be removed in the future. Please use the 'torchvision.transforms' module instead.\n",
      "  warnings.warn(\n"
     ]
    },
    {
     "name": "stdout",
     "output_type": "stream",
     "text": [
      "Embedding shape: torch.Size([2304])\n",
      "Embedding sample: tensor([0.3879, 0.2860, 0.1396, 0.0334, 0.0007])\n"
     ]
    }
   ],
   "source": [
    "import torch\n",
    "import cv2\n",
    "import numpy as np\n",
    "from torch import nn\n",
    "from pytorchvideo.models.hub import slowfast_r50\n",
    "from torchvision.transforms import Compose\n",
    "import torchvision.transforms._transforms_video as transforms\n",
    "\n",
    "# Load pretrained SlowFast model and strip classifier head\n",
    "def load_slowfast_model():\n",
    "    model = slowfast_r50(pretrained=True)\n",
    "    model.blocks[-1].proj = nn.Identity()  # remove classification head\n",
    "    model.eval()\n",
    "    return model\n",
    "\n",
    "# Video transform: normalize pixel values\n",
    "def get_transform():\n",
    "    return Compose([\n",
    "        transforms.NormalizeVideo(\n",
    "            mean=[0.45, 0.45, 0.45],\n",
    "            std=[0.225, 0.225, 0.225]\n",
    "        )\n",
    "    ])\n",
    "\n",
    "# Load video frames and format for SlowFast\n",
    "def load_video_frames(path, num_frames=32, slowfast_alpha=4):\n",
    "    cap = cv2.VideoCapture(path)\n",
    "    total_frames = int(cap.get(cv2.CAP_PROP_FRAME_COUNT))\n",
    "    sample_rate = max(total_frames // num_frames, 1)\n",
    "\n",
    "    frames = []\n",
    "    for i in range(num_frames):\n",
    "        cap.set(cv2.CAP_PROP_POS_FRAMES, i * sample_rate)\n",
    "        ret, frame = cap.read()\n",
    "        if not ret:\n",
    "            break\n",
    "        frame = cv2.cvtColor(frame, cv2.COLOR_BGR2RGB)\n",
    "        frame = cv2.resize(frame, (224, 224))\n",
    "        frames.append(frame)\n",
    "\n",
    "    cap.release()\n",
    "\n",
    "    if len(frames) < num_frames:\n",
    "        raise ValueError(f\"Only {len(frames)} frames could be read. Expected {num_frames}.\")\n",
    "\n",
    "    video = np.stack(frames)  # (T, H, W, C)\n",
    "    video = torch.from_numpy(video).float() / 255.0  # Normalize to [0, 1]\n",
    "    video = video.permute(3, 0, 1, 2)  # (C, T, H, W)\n",
    "    video = video.unsqueeze(0)  # (B, C, T, H, W)\n",
    "    return video\n",
    "\n",
    "# Prepare video for SlowFast input (two pathways)\n",
    "def pack_pathway(video, alpha=4):\n",
    "    fast_pathway = video\n",
    "    slow_pathway = video[:, :, ::alpha, :, :]\n",
    "    return [slow_pathway, fast_pathway]\n",
    "\n",
    "# Main function: extract embedding from video path\n",
    "def extract_slowfast_embedding(video_path):\n",
    "    model = load_slowfast_model()\n",
    "    transform = get_transform()\n",
    "    video = load_video_frames(video_path)\n",
    "    video = transform(video.squeeze(0)).unsqueeze(0)\n",
    "    inputs = pack_pathway(video)\n",
    "\n",
    "    with torch.no_grad():\n",
    "        embedding = model(inputs)\n",
    "    return embedding.squeeze(0)  # shape: (2304,)\n",
    "\n",
    "# Test path\n",
    "video_path = \"/Users/j/code/bjj_classifier/data/training/pulling_guard/pulling_guard01.mp4\"\n",
    "\n",
    "# Extract and print\n",
    "embedding = extract_slowfast_embedding(video_path)\n",
    "print(\"Embedding shape:\", embedding.shape)  # should be torch.Size([2304])\n",
    "print(\"Embedding sample:\", embedding[:5])    # first 5 values"
   ]
  },
  {
   "cell_type": "code",
   "execution_count": 10,
   "id": "b86d7185-ac00-4d3f-b602-9439c444d1e0",
   "metadata": {},
   "outputs": [
    {
     "name": "stdout",
     "output_type": "stream",
     "text": [
      "/Users/j/code/bjj_classifier\n"
     ]
    }
   ],
   "source": [
    "name_dict = {\"name\" : \"Jacob\"}\n",
    "name_dict[\"name\"]\n",
    "!pwd"
   ]
  },
  {
   "cell_type": "code",
   "execution_count": 11,
   "id": "0ca01752-0900-4adf-a3be-94e7b8a28d6f",
   "metadata": {},
   "outputs": [
    {
     "name": "stdout",
     "output_type": "stream",
     "text": [
      "{'pulling_guard05.mp4': tensor([0.1640, 0.1205, 0.0652,  ..., 0.0228, 0.4845, 0.0738]), 'pulling_guard06.mp4': tensor([0.0325, 0.1148, 0.0159,  ..., 0.0290, 0.1209, 0.0611])}\n"
     ]
    }
   ],
   "source": [
    "import os\n",
    "data_dict = {}\n",
    "data_dict[\"training\"] = {}\n",
    "data_dict[\"training\"][\"pulling_guard\"] = {}\n",
    "for file_name in os.listdir(\"../bjj_classifier/data/training/pulling_guard\"):\n",
    "    if file_name != \".DS_Store\":\n",
    "        video_path = f\"/Users/j/code/bjj_classifier/data/training/pulling_guard/{file_name}\"\n",
    "        embedding = extract_slowfast_embedding(video_path)\n",
    "        data_dict[\"training\"][\"pulling_guard\"][file_name] = embedding\n",
    "\n",
    "data_dict[\"training\"][\"passing_guard\"] = {}\n",
    "for file_name in os.listdir(\"../bjj_classifier/data/training/pulling_guard\"):\n",
    "    if file_name != \".DS_Store\":\n",
    "        video_path = f\"/Users/j/code/bjj_classifier/data/training/pulling_guard/{file_name}\"\n",
    "        embedding = extract_slowfast_embedding(video_path)\n",
    "        data_dict[\"training\"][\"passing_guard\"][file_name] = embedding\n",
    "    \n",
    "data_dict[\"test\"] = {}\n",
    "data_dict[\"test\"][\"pulling_guard\"] = {}\n",
    "for file_name in os.listdir(\"../bjj_classifier/data/test/pulling_guard\"):\n",
    "    if file_name != \".DS_Store\":\n",
    "        video_path = f\"/Users/j/code/bjj_classifier/data/test/pulling_guard/{file_name}\"\n",
    "        embedding = extract_slowfast_embedding(video_path)\n",
    "        data_dict[\"test\"][\"pulling_guard\"][file_name] = embedding\n",
    "\n",
    "data_dict[\"test\"][\"passing_guard\"] = {}\n",
    "for file_name in os.listdir(\"../bjj_classifier/data/test/pulling_guard\"):\n",
    "    if file_name != \".DS_Store\":\n",
    "        video_path = f\"/Users/j/code/bjj_classifier/data/test/pulling_guard/{file_name}\"\n",
    "        embedding = extract_slowfast_embedding(video_path)\n",
    "        data_dict[\"test\"][\"passing_guard\"][file_name] = embedding        \n",
    "\n",
    "\n",
    "        \n",
    "print(data_dict[\"test\"][\"passing_guard\"])"
   ]
  },
  {
   "cell_type": "code",
   "execution_count": 149,
   "id": "ec3573fd-ff32-4093-9480-b2af1f80fc9d",
   "metadata": {},
   "outputs": [],
   "source": [
    "import os\n",
    "\n",
    "def build_dataset(base_path, categories):\n",
    "    dataset = {} #initialize data set\n",
    "    for category in categories: #Iterates through training and test\n",
    "        dataset[category] = {} #Create first keys in data set. First for training, then for test.\n",
    "        for label in [\"pulling_guard\", \"passing_guard\"]: #label gets set to equal both pulling_guard and passing_guard\n",
    "            label_path = os.path.join(base_path, category, label) #Creates a path based off of label and category\n",
    "            dataset[category][label] = {} #Creates a second key within the dataset\n",
    "            for file_name in os.listdir(label_path): #Iterates through all files in dirs with both category and label name\n",
    "                if not file_name.startswith(\".\"): #Doesn't include .DS_Store\n",
    "                    video_path = os.path.abspath(label_path + \"/\" + file_name) #Create path to specific files/video\n",
    "                    embedding = extract_slowfast_embedding(video_path) #Create embeddings for specific files\n",
    "                    dataset[category][label][file_name] = embedding #Stores embeddings in data set\n",
    "    return dataset\n",
    "\n",
    "data_dict = build_dataset(\"../bjj_classifier/data\", [\"training\", \"test\"])"
   ]
  },
  {
   "cell_type": "code",
   "execution_count": 150,
   "id": "f8decc5d-8acb-4f61-9e92-31fe64519c94",
   "metadata": {},
   "outputs": [
    {
     "data": {
      "text/plain": [
       "{'training': {'pulling_guard': {'pulling_guard02.mp4': tensor([0.1065, 0.0549, 0.0014,  ..., 0.2788, 0.3420, 0.0307]),\n",
       "   'pulling_guard03.mp4': tensor([0.0519, 0.2449, 0.0847,  ..., 0.1107, 0.3816, 0.1676]),\n",
       "   'pulling_guard01.mp4': tensor([0.3356, 0.3462, 0.0682,  ..., 0.2617, 0.2398, 0.0822]),\n",
       "   'pulling_guard04.mp4': tensor([0.3371, 0.0350, 0.0472,  ..., 0.2812, 0.5695, 0.1391])},\n",
       "  'passing_guard': {'passing_guard01.mp4': tensor([0.3466, 0.5936, 0.0662,  ..., 0.0000, 0.0532, 0.0076]),\n",
       "   'passing_guard02.mp4': tensor([0.2020, 0.8280, 0.2705,  ..., 0.0157, 0.0937, 0.0216]),\n",
       "   'passing_guard03.mp4': tensor([0.3621, 1.1307, 0.4418,  ..., 1.2560, 0.2893, 0.0245]),\n",
       "   'passing_guard04.mp4': tensor([0.3466, 0.5936, 0.0662,  ..., 0.0000, 0.0532, 0.0076])}},\n",
       " 'test': {'pulling_guard': {'pulling_guard05.mp4': tensor([0.1640, 0.1205, 0.0652,  ..., 0.0228, 0.4845, 0.0738]),\n",
       "   'pulling_guard06.mp4': tensor([0.0325, 0.1148, 0.0159,  ..., 0.0290, 0.1209, 0.0611])},\n",
       "  'passing_guard': {'passing_guard06.mp4': tensor([0.6926, 0.2768, 0.3470,  ..., 0.1357, 1.0479, 0.0214]),\n",
       "   'passing_guard05.mp4': tensor([0.2913, 0.0769, 0.1399,  ..., 0.4303, 0.7424, 0.0228])}}}"
      ]
     },
     "execution_count": 150,
     "metadata": {},
     "output_type": "execute_result"
    }
   ],
   "source": [
    "data_dict"
   ]
  },
  {
   "cell_type": "code",
   "execution_count": 14,
   "id": "428387a4-cf2d-4108-bc76-f02c345c723f",
   "metadata": {},
   "outputs": [
    {
     "name": "stdout",
     "output_type": "stream",
     "text": [
      "Requirement already satisfied: scikit-learn in /Users/j/.pyenv/versions/3.10.18/lib/python3.10/site-packages (1.7.0)\n",
      "Requirement already satisfied: numpy>=1.22.0 in /Users/j/.pyenv/versions/3.10.18/lib/python3.10/site-packages (from scikit-learn) (2.2.6)\n",
      "Requirement already satisfied: scipy>=1.8.0 in /Users/j/.pyenv/versions/3.10.18/lib/python3.10/site-packages (from scikit-learn) (1.15.3)\n",
      "Requirement already satisfied: joblib>=1.2.0 in /Users/j/.pyenv/versions/3.10.18/lib/python3.10/site-packages (from scikit-learn) (1.5.1)\n",
      "Requirement already satisfied: threadpoolctl>=3.1.0 in /Users/j/.pyenv/versions/3.10.18/lib/python3.10/site-packages (from scikit-learn) (3.6.0)\n"
     ]
    }
   ],
   "source": [
    "!pip install scikit-learn"
   ]
  },
  {
   "cell_type": "code",
   "execution_count": 15,
   "id": "0bc66623-9370-4803-80a7-5943fad3a5f4",
   "metadata": {},
   "outputs": [
    {
     "name": "stdout",
     "output_type": "stream",
     "text": [
      "Similarity: 87.21%\n"
     ]
    }
   ],
   "source": [
    "import torch\n",
    "import torch.nn.functional as F\n",
    "import sys\n",
    "\n",
    "embedding_a = data_dict[\"training\"][\"pulling_guard\"][\"pulling_guard02.mp4\"]\n",
    "embedding_b = data_dict[\"test\"][\"pulling_guard\"][\"pulling_guard05.mp4\"]\n",
    "##embedding_b = data_dict[\"test\"][\"passing_guard\"][\"passing_guard05.mp4\"]\n",
    "\n",
    "# Compute cosine similarity between [1, D] vectors\n",
    "similarity = F.cosine_similarity(embedding_a.unsqueeze(0), embedding_b.unsqueeze(0), dim=1).item()\n",
    "similarity_percentage = (similarity + 1) / 2 * 100\n",
    "\n",
    "print(f\"Similarity: {similarity_percentage:.2f}%\")"
   ]
  },
  {
   "cell_type": "code",
   "execution_count": 16,
   "id": "f279ae6b-dee7-44e5-a6f9-29bc2d1f8b40",
   "metadata": {},
   "outputs": [],
   "source": [
    "def perdiction(file_name):\n",
    "    \n",
    "    index1 = 0\n",
    "    \n",
    "    \n",
    "    while file_name[index1].isalpha():\n",
    "        index1 += 1\n",
    "    \n",
    "\n",
    "    \n",
    "    embedding_a = data_dict[\"test\"][file_name[0:len(file_name)-index1+1]][file_name]\n",
    "    \n",
    "    embedding_list_pulling = [] #make embedding list for all pulling guard videos\n",
    "    embedding_list_passing = [] #make embedding list for all passing guard videos\n",
    "\n",
    "    \n",
    "    for files in os.listdir(\"../bjj_classifier/data/training/pulling_guard\"): \n",
    "        if files != \".DS_Store\":\n",
    "            embedding_list_pulling.append(data_dict[\"training\"][\"pulling_guard\"][files])\n",
    "\n",
    "    for files in os.listdir(\"../bjj_classifier/data/training/passing_guard\"): \n",
    "        if files != \".DS_Store\":\n",
    "            embedding_list_passing.append(data_dict[\"training\"][\"passing_guard\"][files])\n",
    "\n",
    "    \n",
    "    sum1 = 0\n",
    "    index2 = 0\n",
    "    for embeddings in embedding_list_pulling:\n",
    "        similarity = F.cosine_similarity(embedding_a.unsqueeze(0), embedding_list_pulling[index2].unsqueeze(0), dim=1).item()\n",
    "        similarity_percentage = (similarity + 1) / 2 * 100\n",
    "        sum1 += similarity_percentage\n",
    "        index2 += 1\n",
    "\n",
    "    average_pulling = sum1/len(embedding_list_pulling)\n",
    "    print(average_pulling)\n",
    "\n",
    "    sum2 = 0\n",
    "    index3 = 0\n",
    "    for embeddings in embedding_list_passing:\n",
    "        similarity = F.cosine_similarity(embedding_a.unsqueeze(0), embedding_list_passing[index3].unsqueeze(0), dim=1).item()\n",
    "        similarity_percentage = (similarity + 1) / 2 * 100\n",
    "        sum2 += similarity_percentage\n",
    "        index3 += 1\n",
    "        \n",
    "    average_passing = sum2/len(embedding_list_passing)\n",
    "    print(average_passing)\n",
    "    \n",
    "    if average_passing < average_pulling:\n",
    "        return \"This is pulling guard\"\n",
    "    elif average_passing > average_pulling:\n",
    "        return \"This is passing guard\"\n",
    "\n",
    "\n"
   ]
  },
  {
   "cell_type": "code",
   "execution_count": 17,
   "id": "4f4a69f6-abc0-4e10-bdb3-8ae400ebf79b",
   "metadata": {},
   "outputs": [
    {
     "name": "stdout",
     "output_type": "stream",
     "text": [
      "81.51419088244438\n",
      "74.01787005364895\n"
     ]
    },
    {
     "data": {
      "text/plain": [
       "'This is pulling guard'"
      ]
     },
     "execution_count": 17,
     "metadata": {},
     "output_type": "execute_result"
    }
   ],
   "source": [
    "perdiction(\"pulling_guard05.mp4\")"
   ]
  },
  {
   "cell_type": "code",
   "execution_count": null,
   "id": "46f479d3-8a18-41ed-bd17-69b14910c39e",
   "metadata": {},
   "outputs": [],
   "source": [
    "dir(\"hello\")"
   ]
  },
  {
   "cell_type": "code",
   "execution_count": 142,
   "id": "faf00720-9bb0-411d-814a-94df29c6b001",
   "metadata": {},
   "outputs": [],
   "source": [
    "'''\n",
    "def perdiction02(file_name):\n",
    "    input_embedding = data_dict[\"test\"][get_dir_name01(file_name)][file_name]\n",
    "    embedding_list_pulling = making_embedding_list01(\"pulling_guard\")\n",
    "    embedding_list_passing = making_embedding_list01(\"passing_guard\")\n",
    "    pulling_sim = compare_embeddings01(input_embedding, embedding_list_pulling)\n",
    "    passing_sim = compare_embeddings01(input_embedding, embedding_list_passing)\n",
    "    print(pulling_sim)\n",
    "    print(passing_sim)\n",
    "    return compare01(pulling_sim, passing_sim)\n",
    "\n",
    "def get_dir_name01(file_name):\n",
    "    index = 0\n",
    "    \n",
    "    while file_name[index].isalpha():\n",
    "        index += 1\n",
    "    \n",
    "    return file_name[0:len(file_name)-index+1]\n",
    "\n",
    "\n",
    "def making_embedding_list01(dir):\n",
    "    embedding_list = []\n",
    "    for files in os.listdir(f\"../bjj_classifier/data/training/{dir}\"): \n",
    "        if files != \".DS_Store\":\n",
    "            embedding_list.append(data_dict[\"training\"][dir][files])\n",
    "\n",
    "    return embedding_list\n",
    "\n",
    "\n",
    "def compare_embeddings01(input_embedding, embedding_list):\n",
    "    sum = 0\n",
    "    index = 0\n",
    "    for embeddings in embedding_list:\n",
    "        similarity = F.cosine_similarity(input_embedding.unsqueeze(0), embeddings.unsqueeze(0), dim=1).item()\n",
    "        similarity_percentage = (similarity + 1) / 2 * 100\n",
    "        sum += similarity_percentage\n",
    "        index += 1\n",
    "\n",
    "    average_sim = sum/len(embedding_list)\n",
    "    return average_sim\n",
    "\n",
    "def compare01(pulling_sim, passing_sim):\n",
    "    if passing_sim < pulling_sim:\n",
    "        return \"This is pulling guard\"\n",
    "    elif passing_sim > pulling_sim:\n",
    "        return \"This is passing guard\"\n",
    "'''"
   ]
  },
  {
   "cell_type": "code",
   "execution_count": 143,
   "id": "35c73e62-4863-4d05-9e24-b0c9a7f6ab97",
   "metadata": {},
   "outputs": [
    {
     "ename": "KeyError",
     "evalue": "'passing_guard02.mp4'",
     "output_type": "error",
     "traceback": [
      "\u001b[0;31m---------------------------------------------------------------------------\u001b[0m",
      "\u001b[0;31mKeyError\u001b[0m                                  Traceback (most recent call last)",
      "Cell \u001b[0;32mIn[143], line 1\u001b[0m\n\u001b[0;32m----> 1\u001b[0m \u001b[38;5;28mprint\u001b[39m(\u001b[43mperdiction02\u001b[49m\u001b[43m(\u001b[49m\u001b[38;5;124;43m\"\u001b[39;49m\u001b[38;5;124;43mpassing_guard05.mp4\u001b[39;49m\u001b[38;5;124;43m\"\u001b[39;49m\u001b[43m)\u001b[49m)\n",
      "Cell \u001b[0;32mIn[142], line 4\u001b[0m, in \u001b[0;36mperdiction02\u001b[0;34m(file_name)\u001b[0m\n\u001b[1;32m      2\u001b[0m input_embedding \u001b[38;5;241m=\u001b[39m data_dict[\u001b[38;5;124m\"\u001b[39m\u001b[38;5;124mtest\u001b[39m\u001b[38;5;124m\"\u001b[39m][get_dir_name01(file_name)][file_name]\n\u001b[1;32m      3\u001b[0m embedding_list_pulling \u001b[38;5;241m=\u001b[39m making_embedding_list01(\u001b[38;5;124m\"\u001b[39m\u001b[38;5;124mpulling_guard\u001b[39m\u001b[38;5;124m\"\u001b[39m)\n\u001b[0;32m----> 4\u001b[0m embedding_list_passing \u001b[38;5;241m=\u001b[39m \u001b[43mmaking_embedding_list01\u001b[49m\u001b[43m(\u001b[49m\u001b[38;5;124;43m\"\u001b[39;49m\u001b[38;5;124;43mpassing_guard\u001b[39;49m\u001b[38;5;124;43m\"\u001b[39;49m\u001b[43m)\u001b[49m\n\u001b[1;32m      5\u001b[0m pulling_sim \u001b[38;5;241m=\u001b[39m compare_embeddings01(input_embedding, embedding_list_pulling)\n\u001b[1;32m      6\u001b[0m passing_sim \u001b[38;5;241m=\u001b[39m compare_embeddings01(input_embedding, embedding_list_passing)\n",
      "Cell \u001b[0;32mIn[142], line 24\u001b[0m, in \u001b[0;36mmaking_embedding_list01\u001b[0;34m(dir)\u001b[0m\n\u001b[1;32m     22\u001b[0m \u001b[38;5;28;01mfor\u001b[39;00m files \u001b[38;5;129;01min\u001b[39;00m os\u001b[38;5;241m.\u001b[39mlistdir(\u001b[38;5;124mf\u001b[39m\u001b[38;5;124m\"\u001b[39m\u001b[38;5;124m../bjj_classifier/data/training/\u001b[39m\u001b[38;5;132;01m{\u001b[39;00m\u001b[38;5;28mdir\u001b[39m\u001b[38;5;132;01m}\u001b[39;00m\u001b[38;5;124m\"\u001b[39m): \n\u001b[1;32m     23\u001b[0m     \u001b[38;5;28;01mif\u001b[39;00m files \u001b[38;5;241m!=\u001b[39m \u001b[38;5;124m\"\u001b[39m\u001b[38;5;124m.DS_Store\u001b[39m\u001b[38;5;124m\"\u001b[39m:\n\u001b[0;32m---> 24\u001b[0m         embedding_list\u001b[38;5;241m.\u001b[39mappend(\u001b[43mdata_dict\u001b[49m\u001b[43m[\u001b[49m\u001b[38;5;124;43m\"\u001b[39;49m\u001b[38;5;124;43mtraining\u001b[39;49m\u001b[38;5;124;43m\"\u001b[39;49m\u001b[43m]\u001b[49m\u001b[43m[\u001b[49m\u001b[38;5;28;43mdir\u001b[39;49m\u001b[43m]\u001b[49m\u001b[43m[\u001b[49m\u001b[43mfiles\u001b[49m\u001b[43m]\u001b[49m)\n\u001b[1;32m     26\u001b[0m \u001b[38;5;28;01mreturn\u001b[39;00m embedding_list\n",
      "\u001b[0;31mKeyError\u001b[0m: 'passing_guard02.mp4'"
     ]
    }
   ],
   "source": [
    "print(perdiction02(\"passing_guard05.mp4\"))"
   ]
  },
  {
   "cell_type": "code",
   "execution_count": 151,
   "id": "07f59105-b9ff-4e6b-a729-758ca14c496c",
   "metadata": {},
   "outputs": [
    {
     "name": "stdout",
     "output_type": "stream",
     "text": [
      "dict_keys(['passing_guard01.mp4', 'passing_guard02.mp4', 'passing_guard03.mp4', 'passing_guard04.mp4'])\n"
     ]
    }
   ],
   "source": [
    "print(data_dict[\"training\"][\"passing_guard\"].keys())"
   ]
  },
  {
   "cell_type": "code",
   "execution_count": 152,
   "id": "6a48b5ee-bce2-4db7-b805-ecc22af18d68",
   "metadata": {},
   "outputs": [],
   "source": [
    "'''\n",
    "import string\n",
    "def perdiction03(file_name):\n",
    "    input_embedding = data_dict[\"test\"][get_dir_name02(file_name)][file_name]\n",
    "    dir_dict = {}\n",
    "    for dir in os.listdir(\"../bjj_classifier/data/training\"):\n",
    "        if dir != \".DS_Store\":\n",
    "            embedding_list = making_embedding_list02(dir)\n",
    "            dir_dict[dir] = embedding_list\n",
    "            \n",
    "    \n",
    "    \n",
    "    embedding_sim_dict = {}\n",
    "    for dir in os.listdir(\"../bjj_classifier/data/training\"):\n",
    "       if dir != \".DS_Store\":\n",
    "           embedding_sim_dict[dir] = compare_embeddings02(input_embedding, dir_dict[dir])\n",
    "\n",
    "    print(embedding_sim_dict[\"pulling_guard\"])\n",
    "    print(embedding_sim_dict[\"passing_guard\"])\n",
    "    \n",
    "    \n",
    "    return compare02(embedding_sim_dict)\n",
    "    \n",
    "\n",
    "def get_dir_name02(file_name):\n",
    "    index = 0\n",
    "    \n",
    "    while file_name[index].isalpha():\n",
    "        index += 1\n",
    "    \n",
    "    return file_name[0:len(file_name)-index+1]\n",
    "\n",
    "\n",
    "def making_embedding_list02(dir):\n",
    "    embedding_list = []\n",
    "    for files in os.listdir(f\"../bjj_classifier/data/training/{dir}\"): \n",
    "        if files != \".DS_Store\":\n",
    "            embedding_list.append(data_dict[\"training\"][dir][files])\n",
    "\n",
    "    return embedding_list\n",
    "\n",
    "\n",
    "def compare_embeddings02(input_embedding, embedding_list):\n",
    "    sum = 0\n",
    "    index = 0\n",
    "    for embeddings in embedding_list:\n",
    "        similarity = F.cosine_similarity(input_embedding.unsqueeze(0), embeddings.unsqueeze(0), dim=1).item()\n",
    "        similarity_percentage = (similarity + 1) / 2 * 100\n",
    "        sum += similarity_percentage\n",
    "        index += 1\n",
    "\n",
    "    average_sim = sum/len(embedding_list)\n",
    "    return average_sim\n",
    "\n",
    "def compare02(embedding_sim_dict):\n",
    "    final_string = \"\"\n",
    "    percent = 0\n",
    "    for dir in embedding_sim_dict:\n",
    "        if embedding_sim_dict[dir] > percent:\n",
    "            percent = embedding_sim_dict[dir]\n",
    "            final_string = (str(dir))\n",
    "            final_string = ''.join([c if c not in string.punctuation else ' ' for c in final_string])\n",
    "            \n",
    "    return f\"This is {final_string}\"\n",
    "'''            \n",
    "\n"
   ]
  },
  {
   "cell_type": "code",
   "execution_count": 154,
   "id": "4babd007-02ef-4321-a718-0c7688ee7cbf",
   "metadata": {},
   "outputs": [
    {
     "name": "stdout",
     "output_type": "stream",
     "text": [
      "77.09744200110435\n",
      "75.3887876868248\n",
      "This is pulling guard\n"
     ]
    }
   ],
   "source": [
    "print(perdiction03(\"passing_guard05.mp4\"))"
   ]
  },
  {
   "cell_type": "code",
   "execution_count": 36,
   "id": "56836c27-53fa-4ba2-af52-376bc7d234f9",
   "metadata": {},
   "outputs": [],
   "source": [
    "'''\n",
    "def perdiction04(file_name):\n",
    "    input_embedding = data_dict[\"test\"][get_dir_name03(file_name)][file_name]\n",
    "    embedding_list_pulling = making_embedding_list03(\"pulling_guard\")\n",
    "    embedding_list_passing = making_embedding_list03(\"passing_guard\")\n",
    "    pulling_sim = compare_embeddings03(input_embedding, embedding_list_pulling)\n",
    "    passing_sim = compare_embeddings03(input_embedding, embedding_list_passing)\n",
    "    print(pulling_sim)\n",
    "    print(passing_sim)\n",
    "    return compare03(pulling_sim, passing_sim)\n",
    "\n",
    "def get_dir_name03(file_name):\n",
    "    index = 0\n",
    "    \n",
    "    while file_name[index].isalpha():\n",
    "        index += 1\n",
    "    \n",
    "    return file_name[0:len(file_name)-index+1]\n",
    "\n",
    "\n",
    "def making_embedding_list03(dir):\n",
    "    embedding_list = []\n",
    "    for files in os.listdir(f\"../bjj_classifier/data/training/{dir}\"): \n",
    "        if files != \".DS_Store\":\n",
    "            embedding_list.append(data_dict[\"training\"][dir][files])\n",
    "\n",
    "    return embedding_list\n",
    "\n",
    "\n",
    "def compare_embeddings03(input_embedding, embedding_list):\n",
    "    compare = 0\n",
    "    index = 0\n",
    "    for embeddings in embedding_list:\n",
    "        similarity = F.cosine_similarity(input_embedding.unsqueeze(0), embeddings.unsqueeze(0), dim=1).item()\n",
    "        similarity_percentage = (similarity + 1) / 2 * 100\n",
    "        if similarity_percentage > compare:\n",
    "            compare = similarity_percentage\n",
    "\n",
    "    return compare\n",
    "\n",
    "def compare03(pulling_sim, passing_sim):\n",
    "    if passing_sim < pulling_sim:\n",
    "        return \"This is pulling guard\"\n",
    "    elif passing_sim > pulling_sim:\n",
    "        return \"This is passing guard\"\n",
    "\n",
    "\n",
    "'''"
   ]
  },
  {
   "cell_type": "code",
   "execution_count": 37,
   "id": "92ee9be5-fae2-4dce-b24a-5a6ef2740236",
   "metadata": {
    "scrolled": true
   },
   "outputs": [
    {
     "name": "stdout",
     "output_type": "stream",
     "text": [
      "81.21072351932526\n",
      "82.1433424949646\n",
      "This is passing guard\n"
     ]
    }
   ],
   "source": [
    "print(perdiction04(\"passing_guard05.mp4\"))"
   ]
  },
  {
   "cell_type": "code",
   "execution_count": 135,
   "id": "a539320e-825e-4f61-b3e2-e725acc08930",
   "metadata": {},
   "outputs": [],
   "source": [
    "'''\n",
    "import string\n",
    "def perdiction05(file_name):\n",
    "    input_embedding = data_dict[\"test\"][extract_directory_name(file_name)][file_name]\n",
    "    \n",
    "    dir_dict = {}\n",
    "    base_path = \"../bjj_classifier/data/training\"\n",
    "    for dir_name in os.listdir(base_path):\n",
    "        if dir_name.startswith(\".\"):\n",
    "            continue  # Skip hidden directories like .DS_Store\n",
    "        embedding_list = make_embedding_list(dir_name, base_path)\n",
    "        if embedding_list:  # Only add if non-empty\n",
    "            dir_dict[dir_name] = embedding_list\n",
    "    \n",
    "    embedding_sim_dict = {}\n",
    "\n",
    "    for dir_name, embedding_list in dir_dict.items():\n",
    "        if not embedding_list:\n",
    "            continue  # skip empty embedding lists just in case\n",
    "        similarity = max_similarity(input_embedding, embedding_list)\n",
    "        embedding_sim_dict[dir_name] = similarity\n",
    "    \n",
    "    return compare(embedding_sim_dict)\n",
    "\n",
    "\n",
    "def extract_directory_name(file_name):\n",
    "    base_name = os.path.splitext(file_name)[0]  # removes file extension\n",
    "    index = 0\n",
    "    while index < len(base_name) and base_name[index].isalpha() or base_name[index] == '_':\n",
    "        index += 1\n",
    "\n",
    "    return base_name[:index]\n",
    "\n",
    "def make_embedding_list(dir_name, base_path=\"../bjj_classifier/data/training\"):\n",
    "    embedding_list = []\n",
    "    dir_path = os.path.join(base_path, dir_name)\n",
    "\n",
    "    for file_name in os.listdir(dir_path):\n",
    "        if file_name.startswith(\".\"):\n",
    "            continue  # skip hidden files like .DS_Store\n",
    "        embedding = data_dict[\"training\"].get(dir_name, {}).get(file_name)\n",
    "        if embedding is not None:\n",
    "            embedding_list.append(embedding)\n",
    "\n",
    "    return embedding_list\n",
    "\n",
    "def max_similarity(input_embedding, embedding_list):\n",
    "    max_percentage = 0.0\n",
    "\n",
    "    for embedding in embedding_list:\n",
    "        similarity = F.cosine_similarity(input_embedding.unsqueeze(0), embedding.unsqueeze(0), dim=1).item()\n",
    "        similarity_percentage = (similarity + 1) * 50  # cleaner math\n",
    "        max_percentage = max(max_percentage, similarity_percentage)\n",
    "\n",
    "    return max_percentage\n",
    "\n",
    "def compare(embedding_sim_dict):\n",
    "    if not embedding_sim_dict:\n",
    "        return \"No data provided.\"\n",
    "\n",
    "    # Find the key with the highest similarity\n",
    "    best_match = max(embedding_sim_dict, key=embedding_sim_dict.get)\n",
    "\n",
    "    # Replace punctuation with spaces and split into words\n",
    "    clean_name = ''.join(c if c not in string.punctuation else ' ' for c in best_match).split()\n",
    "\n",
    "    # Join only the first two words (if they exist)\n",
    "    final_string = ' '.join(clean_name[:2])\n",
    "\n",
    "    return f\"This is {final_string}\"\n",
    "'''\n",
    "\n",
    "\n",
    "\n"
   ]
  },
  {
   "cell_type": "code",
   "execution_count": 137,
   "id": "3ad58b2e-2eb1-44e7-9252-f7851a7670a3",
   "metadata": {},
   "outputs": [
    {
     "name": "stdout",
     "output_type": "stream",
     "text": [
      "This is pulling guard\n"
     ]
    }
   ],
   "source": [
    "print(perdiction05(\"passing_guard05.mp4\"))"
   ]
  },
  {
   "cell_type": "code",
   "execution_count": 164,
   "id": "d78d2bd2-ee1e-41ad-8db5-1a2306d254fd",
   "metadata": {},
   "outputs": [],
   "source": [
    "import string\n",
    "def prediction06(file_name):\n",
    "    # Step 1: Extract test embedding\n",
    "    category = extract_directory_name(file_name)\n",
    "    input_embedding = data_dict[\"test\"][category][file_name]\n",
    "\n",
    "    # Step 2: Build training embeddings dictionary\n",
    "    base_path = \"../bjj_classifier/data/training\"\n",
    "    dir_dict = {\n",
    "        dir_name: make_embedding_list(dir_name, base_path)\n",
    "        for dir_name in os.listdir(base_path)\n",
    "        if not dir_name.startswith(\".\")\n",
    "    }\n",
    "\n",
    "    # Step 3: Compute similarity scores\n",
    "    embedding_sim_dict = {\n",
    "        dir_name: max_similarity(input_embedding, embeddings)\n",
    "        for dir_name, embeddings in dir_dict.items()\n",
    "        if embeddings\n",
    "    }\n",
    "\n",
    "    # Step 4: Return best match description\n",
    "    return compare(embedding_sim_dict)\n",
    "\n",
    "\n",
    "\n",
    "def extract_directory_name(file_name):\n",
    "    base_name = os.path.splitext(file_name)[0]  # removes file extension\n",
    "    index = 0\n",
    "    while index < len(base_name) and base_name[index].isalpha() or base_name[index] == '_':\n",
    "        index += 1\n",
    "\n",
    "    return base_name[:index]\n",
    "\n",
    "def make_embedding_list(dir_name, base_path=\"../bjj_classifier/data/training\"):\n",
    "    embedding_list = []\n",
    "    dir_path = os.path.join(base_path, dir_name)\n",
    "\n",
    "    for file_name in os.listdir(dir_path):\n",
    "        if file_name.startswith(\".\"):\n",
    "            continue  # skip hidden files like .DS_Store\n",
    "        embedding = data_dict[\"training\"].get(dir_name, {}).get(file_name)\n",
    "        if embedding is not None:\n",
    "            embedding_list.append(embedding)\n",
    "\n",
    "    return embedding_list\n",
    "\n",
    "def max_similarity(input_embedding, embedding_list):\n",
    "    max_percentage = 0.0\n",
    "\n",
    "    for embedding in embedding_list:\n",
    "        similarity = F.cosine_similarity(input_embedding.unsqueeze(0), embedding.unsqueeze(0), dim=1).item()\n",
    "        similarity_percentage = (similarity + 1) * 50  # cleaner math\n",
    "        max_percentage = max(max_percentage, similarity_percentage)\n",
    "\n",
    "    print(max_percentage)\n",
    "    return max_percentage\n",
    "\n",
    "def compare(embedding_sim_dict):\n",
    "    if not embedding_sim_dict:\n",
    "        return \"No data provided.\"\n",
    "\n",
    "    # Find the key with the highest similarity\n",
    "    best_match = max(embedding_sim_dict, key=embedding_sim_dict.get)\n",
    "\n",
    "    # Replace punctuation with spaces and split into words\n",
    "    clean_name = ''.join(c if c not in string.punctuation else ' ' for c in best_match).split()\n",
    "\n",
    "    # Join only the first two words (if they exist)\n",
    "    final_string = ' '.join(clean_name[:2])\n",
    "\n",
    "    return f\"This is {final_string}\"\n",
    "\n",
    "\n",
    "\n",
    "\n"
   ]
  },
  {
   "cell_type": "code",
   "execution_count": 168,
   "id": "86f8aa15-7144-4a7d-8c45-ba01344570aa",
   "metadata": {},
   "outputs": [
    {
     "name": "stdout",
     "output_type": "stream",
     "text": [
      "74.2579773068428\n",
      "86.72890961170197\n",
      "This is pulling guard\n"
     ]
    }
   ],
   "source": [
    "print(prediction06(\"pulling_guard05.mp4\"))"
   ]
  },
  {
   "cell_type": "code",
   "execution_count": null,
   "id": "9011fab9-b31c-499a-852a-700e9c1eb882",
   "metadata": {},
   "outputs": [],
   "source": []
  }
 ],
 "metadata": {
  "kernelspec": {
   "display_name": "Python (pyenv 3.10.18)",
   "language": "python",
   "name": "pyenv-3.10.18"
  },
  "language_info": {
   "codemirror_mode": {
    "name": "ipython",
    "version": 3
   },
   "file_extension": ".py",
   "mimetype": "text/x-python",
   "name": "python",
   "nbconvert_exporter": "python",
   "pygments_lexer": "ipython3",
   "version": "3.10.18"
  }
 },
 "nbformat": 4,
 "nbformat_minor": 5
}
