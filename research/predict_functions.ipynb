{
 "cells": [
  {
   "cell_type": "code",
   "execution_count": 1,
   "id": "f69d7b0a-888f-4455-8dab-09098f52335c",
   "metadata": {
    "scrolled": true
   },
   "outputs": [
    {
     "name": "stdout",
     "output_type": "stream",
     "text": [
      "Requirement already satisfied: pytorchvideo in /Users/j/.pyenv/versions/3.10.18/lib/python3.10/site-packages (0.1.5)\n",
      "Requirement already satisfied: torch in /Users/j/.pyenv/versions/3.10.18/lib/python3.10/site-packages (2.7.1)\n",
      "Requirement already satisfied: torchvision in /Users/j/.pyenv/versions/3.10.18/lib/python3.10/site-packages (0.22.1)\n",
      "Requirement already satisfied: opencv-python in /Users/j/.pyenv/versions/3.10.18/lib/python3.10/site-packages (4.11.0.86)\n",
      "Requirement already satisfied: fvcore in /Users/j/.pyenv/versions/3.10.18/lib/python3.10/site-packages (from pytorchvideo) (0.1.5.post20221221)\n",
      "Requirement already satisfied: av in /Users/j/.pyenv/versions/3.10.18/lib/python3.10/site-packages (from pytorchvideo) (14.4.0)\n",
      "Requirement already satisfied: parameterized in /Users/j/.pyenv/versions/3.10.18/lib/python3.10/site-packages (from pytorchvideo) (0.9.0)\n",
      "Requirement already satisfied: iopath in /Users/j/.pyenv/versions/3.10.18/lib/python3.10/site-packages (from pytorchvideo) (0.1.10)\n",
      "Requirement already satisfied: networkx in /Users/j/.pyenv/versions/3.10.18/lib/python3.10/site-packages (from pytorchvideo) (3.4.2)\n",
      "Requirement already satisfied: filelock in /Users/j/.pyenv/versions/3.10.18/lib/python3.10/site-packages (from torch) (3.18.0)\n",
      "Requirement already satisfied: typing-extensions>=4.10.0 in /Users/j/.pyenv/versions/3.10.18/lib/python3.10/site-packages (from torch) (4.14.0)\n",
      "Requirement already satisfied: sympy>=1.13.3 in /Users/j/.pyenv/versions/3.10.18/lib/python3.10/site-packages (from torch) (1.14.0)\n",
      "Requirement already satisfied: jinja2 in /Users/j/.pyenv/versions/3.10.18/lib/python3.10/site-packages (from torch) (3.1.6)\n",
      "Requirement already satisfied: fsspec in /Users/j/.pyenv/versions/3.10.18/lib/python3.10/site-packages (from torch) (2025.5.1)\n",
      "Requirement already satisfied: numpy in /Users/j/.pyenv/versions/3.10.18/lib/python3.10/site-packages (from torchvision) (2.2.6)\n",
      "Requirement already satisfied: pillow!=8.3.*,>=5.3.0 in /Users/j/.pyenv/versions/3.10.18/lib/python3.10/site-packages (from torchvision) (11.2.1)\n",
      "Requirement already satisfied: mpmath<1.4,>=1.1.0 in /Users/j/.pyenv/versions/3.10.18/lib/python3.10/site-packages (from sympy>=1.13.3->torch) (1.3.0)\n",
      "Requirement already satisfied: yacs>=0.1.6 in /Users/j/.pyenv/versions/3.10.18/lib/python3.10/site-packages (from fvcore->pytorchvideo) (0.1.8)\n",
      "Requirement already satisfied: pyyaml>=5.1 in /Users/j/.pyenv/versions/3.10.18/lib/python3.10/site-packages (from fvcore->pytorchvideo) (6.0.2)\n",
      "Requirement already satisfied: tqdm in /Users/j/.pyenv/versions/3.10.18/lib/python3.10/site-packages (from fvcore->pytorchvideo) (4.67.1)\n",
      "Requirement already satisfied: termcolor>=1.1 in /Users/j/.pyenv/versions/3.10.18/lib/python3.10/site-packages (from fvcore->pytorchvideo) (3.1.0)\n",
      "Requirement already satisfied: tabulate in /Users/j/.pyenv/versions/3.10.18/lib/python3.10/site-packages (from fvcore->pytorchvideo) (0.9.0)\n",
      "Requirement already satisfied: portalocker in /Users/j/.pyenv/versions/3.10.18/lib/python3.10/site-packages (from iopath->pytorchvideo) (3.2.0)\n",
      "Requirement already satisfied: MarkupSafe>=2.0 in /Users/j/.pyenv/versions/3.10.18/lib/python3.10/site-packages (from jinja2->torch) (3.0.2)\n"
     ]
    }
   ],
   "source": [
    "!pip install pytorchvideo torch torchvision opencv-python"
   ]
  },
  {
   "cell_type": "code",
   "execution_count": 32,
   "id": "53321c34-6fb5-40e1-aee3-d1f36abbb83e",
   "metadata": {},
   "outputs": [
    {
     "name": "stdout",
     "output_type": "stream",
     "text": [
      "Embedding shape: torch.Size([2304])\n",
      "Embedding sample: tensor([0.3356, 0.3462, 0.0682, 0.0396, 0.0000])\n"
     ]
    }
   ],
   "source": [
    "import torch\n",
    "import cv2\n",
    "import numpy as np\n",
    "from torch import nn\n",
    "from pytorchvideo.models.hub import slowfast_r50\n",
    "from torchvision.transforms import Compose\n",
    "import torchvision.transforms._transforms_video as transforms\n",
    "\n",
    "# Load pretrained SlowFast model and strip classifier head\n",
    "def load_slowfast_model():\n",
    "    model = slowfast_r50(pretrained=True)\n",
    "    model.blocks[-1].proj = nn.Identity()  # remove classification head\n",
    "    model.eval()\n",
    "    return model\n",
    "\n",
    "# Video transform: normalize pixel values\n",
    "def get_transform():\n",
    "    return Compose([\n",
    "        transforms.NormalizeVideo(\n",
    "            mean=[0.45, 0.45, 0.45],\n",
    "            std=[0.225, 0.225, 0.225]\n",
    "        )\n",
    "    ])\n",
    "\n",
    "# Load video frames and format for SlowFast\n",
    "def load_video_frames(path, num_frames=32, slowfast_alpha=4):\n",
    "    cap = cv2.VideoCapture(path)\n",
    "    total_frames = int(cap.get(cv2.CAP_PROP_FRAME_COUNT))\n",
    "    sample_rate = max(total_frames // num_frames, 1)\n",
    "\n",
    "    frames = []\n",
    "    for i in range(num_frames):\n",
    "        cap.set(cv2.CAP_PROP_POS_FRAMES, i * sample_rate)\n",
    "        ret, frame = cap.read()\n",
    "        if not ret:\n",
    "            break\n",
    "        frame = cv2.cvtColor(frame, cv2.COLOR_BGR2RGB)\n",
    "        frame = cv2.resize(frame, (224, 224))\n",
    "        frames.append(frame)\n",
    "\n",
    "    cap.release()\n",
    "\n",
    "    if len(frames) < num_frames:\n",
    "        raise ValueError(f\"Only {len(frames)} frames could be read. Expected {num_frames}.\")\n",
    "\n",
    "    video = np.stack(frames)  # (T, H, W, C)\n",
    "    video = torch.from_numpy(video).float() / 255.0  # Normalize to [0, 1]\n",
    "    video = video.permute(3, 0, 1, 2)  # (C, T, H, W)\n",
    "    video = video.unsqueeze(0)  # (B, C, T, H, W)\n",
    "    return video\n",
    "\n",
    "# Prepare video for SlowFast input (two pathways)\n",
    "def pack_pathway(video, alpha=4):\n",
    "    fast_pathway = video\n",
    "    slow_pathway = video[:, :, ::alpha, :, :]\n",
    "    return [slow_pathway, fast_pathway]\n",
    "\n",
    "# Main function: extract embedding from video path\n",
    "def extract_slowfast_embedding(video_path):\n",
    "    model = load_slowfast_model()\n",
    "    transform = get_transform()\n",
    "    video = load_video_frames(video_path)\n",
    "    video = transform(video.squeeze(0)).unsqueeze(0)\n",
    "    inputs = pack_pathway(video)\n",
    "\n",
    "    with torch.no_grad():\n",
    "        embedding = model(inputs)\n",
    "    return embedding.squeeze(0)  # shape: (2304,)\n",
    "\n",
    "# Test path\n",
    "video_path = \"/Users/j/code/bjj_classifier/data/training/pulling_guard/pulling_guard01.mp4\"\n",
    "\n",
    "# Extract and print\n",
    "embedding = extract_slowfast_embedding(video_path)\n",
    "print(\"Embedding shape:\", embedding.shape)  # should be torch.Size([2304])\n",
    "print(\"Embedding sample:\", embedding[:5])    # first 5 values"
   ]
  },
  {
   "cell_type": "code",
   "execution_count": 33,
   "id": "b86d7185-ac00-4d3f-b602-9439c444d1e0",
   "metadata": {},
   "outputs": [
    {
     "name": "stdout",
     "output_type": "stream",
     "text": [
      "/Users/j/code/bjj_classifier/data\n"
     ]
    }
   ],
   "source": [
    "name_dict = {\"name\" : \"Jacob\"}\n",
    "name_dict[\"name\"]\n",
    "!pwd"
   ]
  },
  {
   "cell_type": "code",
   "execution_count": null,
   "id": "0ca01752-0900-4adf-a3be-94e7b8a28d6f",
   "metadata": {},
   "outputs": [
    {
     "name": "stdout",
     "output_type": "stream",
     "text": [
      "{'pulling_guard05.mp4': tensor([0.1640, 0.1205, 0.0652,  ..., 0.0228, 0.4845, 0.0738]), 'pulling_guard06.mp4': tensor([0.0325, 0.1148, 0.0159,  ..., 0.0290, 0.1209, 0.0611])}\n"
     ]
    }
   ],
   "source": [
    "import os\n",
    "data_dict = {}\n",
    "data_dict[\"training\"] = {}\n",
    "data_dict[\"training\"][\"pulling_guard\"] = {}\n",
    "for file_name in os.listdir(\"../bjj_classifier/data/training/pulling_guard\"):\n",
    "    if file_name != \".DS_Store\":\n",
    "        video_path = f\"/Users/j/code/bjj_classifier/data/training/pulling_guard/{file_name}\"\n",
    "        embedding = extract_slowfast_embedding(video_path)\n",
    "        data_dict[\"training\"][\"pulling_guard\"][file_name] = embedding\n",
    "\n",
    "data_dict[\"training\"][\"passing_guard\"] = {}\n",
    "for file_name in os.listdir(\"../bjj_classifier/data/training/pulling_guard\"):\n",
    "    if file_name != \".DS_Store\":\n",
    "        video_path = f\"/Users/j/code/bjj_classifier/data/training/pulling_guard/{file_name}\"\n",
    "        embedding = extract_slowfast_embedding(video_path)\n",
    "        data_dict[\"training\"][\"passing_guard\"][file_name] = embedding\n",
    "    \n",
    "data_dict[\"test\"] = {}\n",
    "data_dict[\"test\"][\"pulling_guard\"] = {}\n",
    "for file_name in os.listdir(\"../bjj_classifier/data/test/pulling_guard\"):\n",
    "    if file_name != \".DS_Store\":\n",
    "        video_path = f\"/Users/j/code/bjj_classifier/data/test/pulling_guard/{file_name}\"\n",
    "        embedding = extract_slowfast_embedding(video_path)\n",
    "        data_dict[\"test\"][\"pulling_guard\"][file_name] = embedding\n",
    "\n",
    "data_dict[\"test\"][\"passing_guard\"] = {}\n",
    "for file_name in os.listdir(\"../bjj_classifier/data/test/pulling_guard\"):\n",
    "    if file_name != \".DS_Store\":\n",
    "        video_path = f\"/Users/j/code/bjj_classifier/data/test/pulling_guard/{file_name}\"\n",
    "        embedding = extract_slowfast_embedding(video_path)\n",
    "        data_dict[\"test\"][\"passing_guard\"][file_name] = embedding        \n",
    "\n",
    "\n",
    "        \n",
    "print(data_dict[\"test\"][\"passing_guard\"])"
   ]
  },
  {
   "cell_type": "code",
   "execution_count": 52,
   "id": "cca63230-864a-4e29-a6ae-cb68ac511e56",
   "metadata": {},
   "outputs": [
    {
     "name": "stdout",
     "output_type": "stream",
     "text": [
      "/Users/j/code/bjj_classifier/data\n"
     ]
    }
   ],
   "source": [
    "!pwd"
   ]
  },
  {
   "cell_type": "code",
   "execution_count": 80,
   "id": "ec3573fd-ff32-4093-9480-b2af1f80fc9d",
   "metadata": {},
   "outputs": [],
   "source": [
    "import os\n",
    "\n",
    "def build_dataset():\n",
    "    \"\"\"Build training embeddings dictionary\"\"\"\n",
    "    data_dict = None\n",
    "    if data_dict is not None:\n",
    "        return data_dict\n",
    "            \n",
    "    data_dict = {\"training\": {}}\n",
    "    base_path = \"/Users/j/code/bjj_classifier/data/training\"\n",
    "        \n",
    "    for category in os.listdir(base_path):\n",
    "        if category.startswith(\".\"):\n",
    "            continue\n",
    "        category_path = os.path.join(base_path, category)\n",
    "        data_dict[\"training\"][category] = {}\n",
    "            \n",
    "        if os.path.exists(category_path):\n",
    "            for file_name in os.listdir(category_path):\n",
    "                if not file_name.startswith(\".\"):\n",
    "                    video_path = os.path.join(category_path, file_name)\n",
    "                    try:\n",
    "                        embedding = extract_slowfast_embedding(video_path)\n",
    "                        data_dict[\"training\"][category][file_name] = embedding\n",
    "                    except Exception as e:\n",
    "                        print(f\"Error processing {video_path}: {e}\")\n",
    "\n",
    "        \n",
    "    return data_dict\n",
    "\n",
    "data_dict = build_dataset()"
   ]
  },
  {
   "cell_type": "code",
   "execution_count": 35,
   "id": "f8decc5d-8acb-4f61-9e92-31fe64519c94",
   "metadata": {},
   "outputs": [
    {
     "data": {
      "text/plain": [
       "{'training': {'double_leg': {'double_leg02.mp4': tensor([0.1253, 0.3977, 0.1187,  ..., 0.1405, 0.2846, 0.0883]),\n",
       "   'double_leg03.mp4': tensor([0.0390, 0.2602, 0.0733,  ..., 0.0843, 0.7537, 0.0084]),\n",
       "   'double_leg01.mp4': tensor([0.2441, 0.0821, 0.0000,  ..., 0.0040, 0.1752, 0.1164]),\n",
       "   'double_leg04.mp4': tensor([0.1485, 0.0234, 0.0248,  ..., 0.5675, 1.0567, 0.0928])},\n",
       "  'passing_guard': {'passing_guard01.mp4': tensor([0.3466, 0.5936, 0.0662,  ..., 0.0000, 0.0532, 0.0076]),\n",
       "   'passing_guard02.mp4': tensor([0.2020, 0.8280, 0.2705,  ..., 0.0157, 0.0937, 0.0216]),\n",
       "   'passing_guard03.mp4': tensor([0.3621, 1.1307, 0.4418,  ..., 1.2560, 0.2893, 0.0245]),\n",
       "   'passing_guard04.mp4': tensor([0.3466, 0.5936, 0.0662,  ..., 0.0000, 0.0532, 0.0076])},\n",
       "  'pulling_guard': {'pulling_guard02.mp4': tensor([0.1065, 0.0549, 0.0014,  ..., 0.2788, 0.3420, 0.0307]),\n",
       "   'pulling_guard03.mp4': tensor([0.0519, 0.2449, 0.0847,  ..., 0.1107, 0.3816, 0.1676]),\n",
       "   'pulling_guard01.mp4': tensor([0.3356, 0.3462, 0.0682,  ..., 0.2617, 0.2398, 0.0822]),\n",
       "   'pulling_guard04.mp4': tensor([0.3371, 0.0350, 0.0472,  ..., 0.2812, 0.5695, 0.1391])}}}"
      ]
     },
     "execution_count": 35,
     "metadata": {},
     "output_type": "execute_result"
    }
   ],
   "source": [
    "data_dict"
   ]
  },
  {
   "cell_type": "code",
   "execution_count": 36,
   "id": "428387a4-cf2d-4108-bc76-f02c345c723f",
   "metadata": {},
   "outputs": [
    {
     "name": "stdout",
     "output_type": "stream",
     "text": [
      "Requirement already satisfied: scikit-learn in /Users/j/.pyenv/versions/3.10.18/lib/python3.10/site-packages (1.7.0)\n",
      "Requirement already satisfied: numpy>=1.22.0 in /Users/j/.pyenv/versions/3.10.18/lib/python3.10/site-packages (from scikit-learn) (2.2.6)\n",
      "Requirement already satisfied: scipy>=1.8.0 in /Users/j/.pyenv/versions/3.10.18/lib/python3.10/site-packages (from scikit-learn) (1.15.3)\n",
      "Requirement already satisfied: joblib>=1.2.0 in /Users/j/.pyenv/versions/3.10.18/lib/python3.10/site-packages (from scikit-learn) (1.5.1)\n",
      "Requirement already satisfied: threadpoolctl>=3.1.0 in /Users/j/.pyenv/versions/3.10.18/lib/python3.10/site-packages (from scikit-learn) (3.6.0)\n"
     ]
    }
   ],
   "source": [
    "!pip install scikit-learn"
   ]
  },
  {
   "cell_type": "code",
   "execution_count": 44,
   "id": "91cf5dcf-bed1-46a8-a813-7659dfd0338b",
   "metadata": {},
   "outputs": [
    {
     "name": "stdout",
     "output_type": "stream",
     "text": [
      "/Users/j/code/bjj_classifier/data\n"
     ]
    }
   ],
   "source": [
    "!pwd"
   ]
  },
  {
   "cell_type": "code",
   "execution_count": 45,
   "id": "0bc66623-9370-4803-80a7-5943fad3a5f4",
   "metadata": {},
   "outputs": [
    {
     "ename": "KeyError",
     "evalue": "'test'",
     "output_type": "error",
     "traceback": [
      "\u001b[0;31m---------------------------------------------------------------------------\u001b[0m",
      "\u001b[0;31mKeyError\u001b[0m                                  Traceback (most recent call last)",
      "Cell \u001b[0;32mIn[45], line 6\u001b[0m\n\u001b[1;32m      3\u001b[0m \u001b[38;5;28;01mimport\u001b[39;00m\u001b[38;5;250m \u001b[39m\u001b[38;5;21;01msys\u001b[39;00m\n\u001b[1;32m      5\u001b[0m embedding_a \u001b[38;5;241m=\u001b[39m data_dict[\u001b[38;5;124m\"\u001b[39m\u001b[38;5;124mtraining\u001b[39m\u001b[38;5;124m\"\u001b[39m][\u001b[38;5;124m\"\u001b[39m\u001b[38;5;124mpulling_guard\u001b[39m\u001b[38;5;124m\"\u001b[39m][\u001b[38;5;124m\"\u001b[39m\u001b[38;5;124mpulling_guard02.mp4\u001b[39m\u001b[38;5;124m\"\u001b[39m]\n\u001b[0;32m----> 6\u001b[0m embedding_b \u001b[38;5;241m=\u001b[39m \u001b[43mdata_dict\u001b[49m\u001b[43m[\u001b[49m\u001b[38;5;124;43m\"\u001b[39;49m\u001b[38;5;124;43mtest\u001b[39;49m\u001b[38;5;124;43m\"\u001b[39;49m\u001b[43m]\u001b[49m[\u001b[38;5;124m\"\u001b[39m\u001b[38;5;124mpulling_guard\u001b[39m\u001b[38;5;124m\"\u001b[39m][\u001b[38;5;124m\"\u001b[39m\u001b[38;5;124mpulling_guard05.mp4\u001b[39m\u001b[38;5;124m\"\u001b[39m]\n\u001b[1;32m      8\u001b[0m \u001b[38;5;66;03m# Compute cosine similarity between [1, D] vectors\u001b[39;00m\n\u001b[1;32m      9\u001b[0m similarity \u001b[38;5;241m=\u001b[39m F\u001b[38;5;241m.\u001b[39mcosine_similarity(embedding_a\u001b[38;5;241m.\u001b[39munsqueeze(\u001b[38;5;241m0\u001b[39m), embedding_b\u001b[38;5;241m.\u001b[39munsqueeze(\u001b[38;5;241m0\u001b[39m), dim\u001b[38;5;241m=\u001b[39m\u001b[38;5;241m1\u001b[39m)\u001b[38;5;241m.\u001b[39mitem()\n",
      "\u001b[0;31mKeyError\u001b[0m: 'test'"
     ]
    }
   ],
   "source": [
    "import torch\n",
    "import torch.nn.functional as F\n",
    "import sys\n",
    "\n",
    "embedding_a = data_dict[\"training\"][\"pulling_guard\"][\"pulling_guard02.mp4\"]\n",
    "embedding_b = data_dict[\"test\"][\"pulling_guard\"][\"pulling_guard05.mp4\"]\n",
    "\n",
    "# Compute cosine similarity between [1, D] vectors\n",
    "similarity = F.cosine_similarity(embedding_a.unsqueeze(0), embedding_b.unsqueeze(0), dim=1).item()\n",
    "similarity_percentage = (similarity + 1) / 2 * 100\n",
    "\n",
    "print(f\"Similarity: {similarity_percentage:.2f}%\")"
   ]
  },
  {
   "cell_type": "code",
   "execution_count": null,
   "id": "f279ae6b-dee7-44e5-a6f9-29bc2d1f8b40",
   "metadata": {},
   "outputs": [],
   "source": [
    "def perdiction(file_name):\n",
    "    \n",
    "    index1 = 0\n",
    "    \n",
    "    \n",
    "    while file_name[index1].isalpha():\n",
    "        index1 += 1\n",
    "    \n",
    "\n",
    "    \n",
    "    embedding_a = data_dict[\"test\"][file_name[0:len(file_name)-index1+1]][file_name]\n",
    "    \n",
    "    embedding_list_pulling = [] #make embedding list for all pulling guard videos\n",
    "    embedding_list_passing = [] #make embedding list for all passing guard videos\n",
    "\n",
    "    \n",
    "    for files in os.listdir(\"../bjj_classifier/data/training/pulling_guard\"): \n",
    "        if files != \".DS_Store\":\n",
    "            embedding_list_pulling.append(data_dict[\"training\"][\"pulling_guard\"][files])\n",
    "\n",
    "    for files in os.listdir(\"../bjj_classifier/data/training/passing_guard\"): \n",
    "        if files != \".DS_Store\":\n",
    "            embedding_list_passing.append(data_dict[\"training\"][\"passing_guard\"][files])\n",
    "\n",
    "    \n",
    "    sum1 = 0\n",
    "    index2 = 0\n",
    "    for embeddings in embedding_list_pulling:\n",
    "        similarity = F.cosine_similarity(embedding_a.unsqueeze(0), embedding_list_pulling[index2].unsqueeze(0), dim=1).item()\n",
    "        similarity_percentage = (similarity + 1) / 2 * 100\n",
    "        sum1 += similarity_percentage\n",
    "        index2 += 1\n",
    "\n",
    "    average_pulling = sum1/len(embedding_list_pulling)\n",
    "    print(average_pulling)\n",
    "\n",
    "    sum2 = 0\n",
    "    index3 = 0\n",
    "    for embeddings in embedding_list_passing:\n",
    "        similarity = F.cosine_similarity(embedding_a.unsqueeze(0), embedding_list_passing[index3].unsqueeze(0), dim=1).item()\n",
    "        similarity_percentage = (similarity + 1) / 2 * 100\n",
    "        sum2 += similarity_percentage\n",
    "        index3 += 1\n",
    "        \n",
    "    average_passing = sum2/len(embedding_list_passing)\n",
    "    print(average_passing)\n",
    "    \n",
    "    if average_passing < average_pulling:\n",
    "        return \"This is pulling guard\"\n",
    "    elif average_passing > average_pulling:\n",
    "        return \"This is passing guard\"\n",
    "\n",
    "\n"
   ]
  },
  {
   "cell_type": "code",
   "execution_count": 171,
   "id": "07f59105-b9ff-4e6b-a729-758ca14c496c",
   "metadata": {},
   "outputs": [
    {
     "data": {
      "text/plain": [
       "dict_keys(['double_leg', 'passing_guard', 'pulling_guard'])"
      ]
     },
     "execution_count": 171,
     "metadata": {},
     "output_type": "execute_result"
    }
   ],
   "source": [
    "#IMPORTANT: .keys() function may be really important\n",
    "'''\n",
    "for dir_name in data_dict[\"training\"].keys():\n",
    "    print(dir_name)\n",
    "    for files in data_dict[\"training\"][dir_name].keys():\n",
    "        for embeddings in data_dict[\"training\"][dir_name][files]:\n",
    "            if embeddings and not dir_name.startswith(\".\"):\n",
    "                print(embeddings)\n",
    "'''\n",
    "data_dict[\"training\"].keys()\n",
    "#data_dict[\"training\"][\"pulling_guard\"].keys()\n",
    "#data_dict[\"training\"][\"pulling_guard\"][\"pulling_guard04.mp4\"]"
   ]
  },
  {
   "cell_type": "code",
   "execution_count": 194,
   "id": "d78d2bd2-ee1e-41ad-8db5-1a2306d254fd",
   "metadata": {},
   "outputs": [],
   "source": [
    "import string\n",
    "def prediction06(file_name):\n",
    "    # Step 1: Extract test embedding\n",
    "    category = extract_directory_name(file_name)\n",
    "    input_embedding = extract_slowfast_embedding(f\"../data/test/{category}/{file_name}\")\n",
    "    base_path = \"../data/training\"\n",
    "    \n",
    "    \n",
    "    dir_dict = {\n",
    "        dir_name: make_embedding_list(dir_name, base_path)\n",
    "        for dir_name in os.listdir(base_path)\n",
    "        if not dir_name.startswith(\".\")\n",
    "    }\n",
    "        \n",
    "    # Compute similarity scores\n",
    "    embedding_sim_dict = {\n",
    "        dir_name: max_similarity(input_embedding, embeddings)\n",
    "        for dir_name, embeddings in dir_dict.items()\n",
    "        if embeddings\n",
    "    }\n",
    "    \n",
    "    # Step 4: Return best match description\n",
    "    return compare(embedding_sim_dict)\n",
    "\n",
    "\n",
    "\n",
    "def extract_directory_name(file_name):\n",
    "    base_name = os.path.splitext(file_name)[0]  # removes file extension\n",
    "    index = 0\n",
    "    while index < len(base_name) and base_name[index].isalpha() or base_name[index] == '_':\n",
    "        index += 1\n",
    "\n",
    "    return base_name[:index]\n",
    "\n",
    "def make_embedding_list(dir_name, base_path=\"../data/training\"):\n",
    "    embedding_list = []\n",
    "    dir_path = os.path.join(base_path, dir_name)\n",
    "    for file_name in os.listdir(dir_path):\n",
    "        if file_name.startswith(\".\"):\n",
    "            continue  # skip hidden files like .DS_Store\n",
    "        embedding = data_dict[\"training\"].get(dir_name, {}).get(file_name)\n",
    "        if embedding is not None:\n",
    "            embedding_list.append(embedding)\n",
    "\n",
    "    return embedding_list\n",
    "\n",
    "def max_similarity(input_embedding, embedding_list):\n",
    "    max_percentage = 0.0\n",
    "\n",
    "    for embedding in embedding_list:\n",
    "        similarity = F.cosine_similarity(input_embedding.unsqueeze(0), embedding.unsqueeze(0), dim=1).item()\n",
    "        similarity_percentage = (similarity + 1) * 50  # cleaner math\n",
    "        max_percentage = max(max_percentage, similarity_percentage)\n",
    "\n",
    "    print(max_percentage)\n",
    "    return max_percentage\n",
    "\n",
    "def compare(embedding_sim_dict):\n",
    "    if not embedding_sim_dict:\n",
    "        return \"No data provided.\"\n",
    "\n",
    "    # Find the key with the highest similarity\n",
    "    best_match = max(embedding_sim_dict, key=embedding_sim_dict.get)\n",
    "\n",
    "    # Replace punctuation with spaces and split into words\n",
    "    clean_name = ''.join(c if c not in string.punctuation else ' ' for c in best_match).split()\n",
    "\n",
    "    # Join only the first two words (if they exist)\n",
    "    final_string = ' '.join(clean_name[:2])\n",
    "\n",
    "    return f\"This is {final_string}\"\n",
    "\n",
    "\n",
    "\n",
    "\n"
   ]
  },
  {
   "cell_type": "code",
   "execution_count": 195,
   "id": "86f8aa15-7144-4a7d-8c45-ba01344570aa",
   "metadata": {},
   "outputs": [
    {
     "name": "stdout",
     "output_type": "stream",
     "text": [
      "80.55141568183899\n",
      "83.88126194477081\n",
      "80.07263243198395\n",
      "This is passing guard\n"
     ]
    }
   ],
   "source": [
    "print(prediction06(\"passing_guard05.mp4\"))"
   ]
  },
  {
   "cell_type": "code",
   "execution_count": 430,
   "id": "e95d5931-cd28-4863-8300-9fe1c79d365d",
   "metadata": {},
   "outputs": [],
   "source": [
    "import math\n",
    "import numpy as np\n",
    "\n",
    "def find_num(num, array, type_change):\n",
    "    if type_change == 0:\n",
    "        middle = math.floor((len(array)-1)/2)\n",
    "    elif type_change == 1:\n",
    "        middle = math.ceil((len(array)-1)/2)\n",
    "\n",
    "    \n",
    "    if array[middle] == num:\n",
    "        return num\n",
    "    \n",
    "    \n",
    "    if array[middle] > num:\n",
    "        new_num = find_num(num, array[:middle], 0)\n",
    "        return new_num\n",
    "    elif array[middle] < num:\n",
    "        new_num = find_num(num, a[middle+1:], 1)\n",
    "        return new_num"
   ]
  },
  {
   "cell_type": "code",
   "execution_count": 436,
   "id": "1dc56cf6-1704-4927-a1b8-2d58ab6a18d3",
   "metadata": {},
   "outputs": [
    {
     "ename": "RecursionError",
     "evalue": "maximum recursion depth exceeded in comparison",
     "output_type": "error",
     "traceback": [
      "\u001b[0;31m---------------------------------------------------------------------------\u001b[0m",
      "\u001b[0;31mRecursionError\u001b[0m                            Traceback (most recent call last)",
      "Cell \u001b[0;32mIn[436], line 3\u001b[0m\n\u001b[1;32m      1\u001b[0m a \u001b[38;5;241m=\u001b[39m [\u001b[38;5;241m1\u001b[39m,\u001b[38;5;241m2\u001b[39m,\u001b[38;5;241m3\u001b[39m,\u001b[38;5;241m4\u001b[39m,\u001b[38;5;241m5\u001b[39m,\u001b[38;5;241m6\u001b[39m,\u001b[38;5;241m7\u001b[39m]\n\u001b[1;32m      2\u001b[0m b \u001b[38;5;241m=\u001b[39m [\u001b[38;5;241m1\u001b[39m,\u001b[38;5;241m2\u001b[39m,\u001b[38;5;241m3\u001b[39m,\u001b[38;5;241m4\u001b[39m,\u001b[38;5;241m5\u001b[39m,\u001b[38;5;241m6\u001b[39m]\n\u001b[0;32m----> 3\u001b[0m \u001b[38;5;28mprint\u001b[39m(\u001b[43mfind_num\u001b[49m\u001b[43m(\u001b[49m\u001b[38;5;241;43m7\u001b[39;49m\u001b[43m,\u001b[49m\u001b[43m \u001b[49m\u001b[43ma\u001b[49m\u001b[43m,\u001b[49m\u001b[43m \u001b[49m\u001b[38;5;241;43m0\u001b[39;49m\u001b[43m)\u001b[49m)\n",
      "Cell \u001b[0;32mIn[430], line 19\u001b[0m, in \u001b[0;36mfind_num\u001b[0;34m(num, array, type_change)\u001b[0m\n\u001b[1;32m     17\u001b[0m     \u001b[38;5;28;01mreturn\u001b[39;00m new_num\n\u001b[1;32m     18\u001b[0m \u001b[38;5;28;01melif\u001b[39;00m array[middle] \u001b[38;5;241m<\u001b[39m num:\n\u001b[0;32m---> 19\u001b[0m     new_num \u001b[38;5;241m=\u001b[39m \u001b[43mfind_num\u001b[49m\u001b[43m(\u001b[49m\u001b[43mnum\u001b[49m\u001b[43m,\u001b[49m\u001b[43m \u001b[49m\u001b[43ma\u001b[49m\u001b[43m[\u001b[49m\u001b[43mmiddle\u001b[49m\u001b[38;5;241;43m+\u001b[39;49m\u001b[38;5;241;43m1\u001b[39;49m\u001b[43m:\u001b[49m\u001b[43m]\u001b[49m\u001b[43m,\u001b[49m\u001b[43m \u001b[49m\u001b[38;5;241;43m1\u001b[39;49m\u001b[43m)\u001b[49m\n\u001b[1;32m     20\u001b[0m     \u001b[38;5;28;01mreturn\u001b[39;00m new_num\n",
      "Cell \u001b[0;32mIn[430], line 19\u001b[0m, in \u001b[0;36mfind_num\u001b[0;34m(num, array, type_change)\u001b[0m\n\u001b[1;32m     17\u001b[0m     \u001b[38;5;28;01mreturn\u001b[39;00m new_num\n\u001b[1;32m     18\u001b[0m \u001b[38;5;28;01melif\u001b[39;00m array[middle] \u001b[38;5;241m<\u001b[39m num:\n\u001b[0;32m---> 19\u001b[0m     new_num \u001b[38;5;241m=\u001b[39m \u001b[43mfind_num\u001b[49m\u001b[43m(\u001b[49m\u001b[43mnum\u001b[49m\u001b[43m,\u001b[49m\u001b[43m \u001b[49m\u001b[43ma\u001b[49m\u001b[43m[\u001b[49m\u001b[43mmiddle\u001b[49m\u001b[38;5;241;43m+\u001b[39;49m\u001b[38;5;241;43m1\u001b[39;49m\u001b[43m:\u001b[49m\u001b[43m]\u001b[49m\u001b[43m,\u001b[49m\u001b[43m \u001b[49m\u001b[38;5;241;43m1\u001b[39;49m\u001b[43m)\u001b[49m\n\u001b[1;32m     20\u001b[0m     \u001b[38;5;28;01mreturn\u001b[39;00m new_num\n",
      "    \u001b[0;31m[... skipping similar frames: find_num at line 19 (2968 times)]\u001b[0m\n",
      "Cell \u001b[0;32mIn[430], line 19\u001b[0m, in \u001b[0;36mfind_num\u001b[0;34m(num, array, type_change)\u001b[0m\n\u001b[1;32m     17\u001b[0m     \u001b[38;5;28;01mreturn\u001b[39;00m new_num\n\u001b[1;32m     18\u001b[0m \u001b[38;5;28;01melif\u001b[39;00m array[middle] \u001b[38;5;241m<\u001b[39m num:\n\u001b[0;32m---> 19\u001b[0m     new_num \u001b[38;5;241m=\u001b[39m \u001b[43mfind_num\u001b[49m\u001b[43m(\u001b[49m\u001b[43mnum\u001b[49m\u001b[43m,\u001b[49m\u001b[43m \u001b[49m\u001b[43ma\u001b[49m\u001b[43m[\u001b[49m\u001b[43mmiddle\u001b[49m\u001b[38;5;241;43m+\u001b[39;49m\u001b[38;5;241;43m1\u001b[39;49m\u001b[43m:\u001b[49m\u001b[43m]\u001b[49m\u001b[43m,\u001b[49m\u001b[43m \u001b[49m\u001b[38;5;241;43m1\u001b[39;49m\u001b[43m)\u001b[49m\n\u001b[1;32m     20\u001b[0m     \u001b[38;5;28;01mreturn\u001b[39;00m new_num\n",
      "Cell \u001b[0;32mIn[430], line 5\u001b[0m, in \u001b[0;36mfind_num\u001b[0;34m(num, array, type_change)\u001b[0m\n\u001b[1;32m      4\u001b[0m \u001b[38;5;28;01mdef\u001b[39;00m\u001b[38;5;250m \u001b[39m\u001b[38;5;21mfind_num\u001b[39m(num, array, type_change):\n\u001b[0;32m----> 5\u001b[0m     \u001b[38;5;28;01mif\u001b[39;00m \u001b[43mtype_change\u001b[49m\u001b[43m \u001b[49m\u001b[38;5;241;43m==\u001b[39;49m\u001b[43m \u001b[49m\u001b[38;5;241;43m0\u001b[39;49m:\n\u001b[1;32m      6\u001b[0m         middle \u001b[38;5;241m=\u001b[39m math\u001b[38;5;241m.\u001b[39mfloor((\u001b[38;5;28mlen\u001b[39m(array)\u001b[38;5;241m-\u001b[39m\u001b[38;5;241m1\u001b[39m)\u001b[38;5;241m/\u001b[39m\u001b[38;5;241m2\u001b[39m)\n\u001b[1;32m      7\u001b[0m     \u001b[38;5;28;01melif\u001b[39;00m type_change \u001b[38;5;241m==\u001b[39m \u001b[38;5;241m1\u001b[39m:\n",
      "\u001b[0;31mRecursionError\u001b[0m: maximum recursion depth exceeded in comparison"
     ]
    }
   ],
   "source": [
    "a = [1,2,3,4,5,6,7]\n",
    "b = [1,2,3,4,5,6]\n",
    "print(find_num(7, a, 0))\n"
   ]
  },
  {
   "cell_type": "code",
   "execution_count": 441,
   "id": "63bf746a-6a03-4523-b924-0430b2326fba",
   "metadata": {},
   "outputs": [
    {
     "data": {
      "text/plain": [
       "[7]"
      ]
     },
     "execution_count": 441,
     "metadata": {},
     "output_type": "execute_result"
    }
   ],
   "source": [
    "c = [5,6,7]\n",
    "middle = 1\n",
    "c[middle+1:]"
   ]
  },
  {
   "cell_type": "code",
   "execution_count": null,
   "id": "689aae59-1d5d-484e-a07a-71adfea59b50",
   "metadata": {},
   "outputs": [],
   "source": []
  }
 ],
 "metadata": {
  "kernelspec": {
   "display_name": "Python (pyenv 3.10.18)",
   "language": "python",
   "name": "pyenv-3.10.18"
  },
  "language_info": {
   "codemirror_mode": {
    "name": "ipython",
    "version": 3
   },
   "file_extension": ".py",
   "mimetype": "text/x-python",
   "name": "python",
   "nbconvert_exporter": "python",
   "pygments_lexer": "ipython3",
   "version": "3.10.18"
  }
 },
 "nbformat": 4,
 "nbformat_minor": 5
}
